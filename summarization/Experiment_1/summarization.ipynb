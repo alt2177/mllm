{
 "cells": [
  {
   "cell_type": "code",
   "execution_count": 8,
   "metadata": {},
   "outputs": [
    {
     "name": "stderr",
     "output_type": "stream",
     "text": [
      "huggingface/tokenizers: The current process just got forked, after parallelism has already been used. Disabling parallelism to avoid deadlocks...\n",
      "To disable this warning, you can either:\n",
      "\t- Avoid using `tokenizers` before the fork if possible\n",
      "\t- Explicitly set the environment variable TOKENIZERS_PARALLELISM=(true | false)\n"
     ]
    },
    {
     "name": "stdout",
     "output_type": "stream",
     "text": [
      "Defaulting to user installation because normal site-packages is not writeable\n",
      "\u001b[33mDEPRECATION: Loading egg at /system/linux/mambaforge-3.11/lib/python3.11/site-packages/matlabengineforpython-9.14-py3.11.egg is deprecated. pip 24.3 will enforce this behaviour change. A possible replacement is to use pip for package installation.. Discussion can be found at https://github.com/pypa/pip/issues/12330\u001b[0m\u001b[33m\n",
      "\u001b[0mRequirement already satisfied: transformers in /accounts/grad/phudish_p/.local/lib/python3.11/site-packages (4.37.2)\n",
      "Requirement already satisfied: datasets in /accounts/grad/phudish_p/.local/lib/python3.11/site-packages (2.17.1)\n",
      "Requirement already satisfied: evaluate in /accounts/grad/phudish_p/.local/lib/python3.11/site-packages (0.4.1)\n",
      "Collecting rouge_score\n",
      "  Downloading rouge_score-0.1.2.tar.gz (17 kB)\n",
      "  Preparing metadata (setup.py) ... \u001b[?25ldone\n",
      "\u001b[?25hRequirement already satisfied: filelock in /accounts/grad/phudish_p/.local/lib/python3.11/site-packages (from transformers) (3.13.1)\n",
      "Requirement already satisfied: huggingface-hub<1.0,>=0.19.3 in /accounts/grad/phudish_p/.local/lib/python3.11/site-packages (from transformers) (0.21.3)\n",
      "Requirement already satisfied: numpy>=1.17 in /usr/local/linux/mambaforge-3.11/lib/python3.11/site-packages (from transformers) (1.23.5)\n",
      "Requirement already satisfied: packaging>=20.0 in /usr/local/linux/mambaforge-3.11/lib/python3.11/site-packages (from transformers) (21.3)\n",
      "Requirement already satisfied: pyyaml>=5.1 in /usr/local/linux/mambaforge-3.11/lib/python3.11/site-packages (from transformers) (6.0)\n",
      "Requirement already satisfied: regex!=2019.12.17 in /accounts/grad/phudish_p/.local/lib/python3.11/site-packages (from transformers) (2023.12.25)\n",
      "Requirement already satisfied: requests in /usr/local/linux/mambaforge-3.11/lib/python3.11/site-packages (from transformers) (2.28.1)\n",
      "Requirement already satisfied: tokenizers<0.19,>=0.14 in /accounts/grad/phudish_p/.local/lib/python3.11/site-packages (from transformers) (0.15.2)\n",
      "Requirement already satisfied: safetensors>=0.4.1 in /accounts/grad/phudish_p/.local/lib/python3.11/site-packages (from transformers) (0.4.2)\n",
      "Requirement already satisfied: tqdm>=4.27 in /accounts/grad/phudish_p/.local/lib/python3.11/site-packages (from transformers) (4.66.2)\n",
      "Requirement already satisfied: pyarrow>=12.0.0 in /accounts/grad/phudish_p/.local/lib/python3.11/site-packages (from datasets) (14.0.1)\n",
      "Requirement already satisfied: pyarrow-hotfix in /accounts/grad/phudish_p/.local/lib/python3.11/site-packages (from datasets) (0.6)\n",
      "Requirement already satisfied: dill<0.3.9,>=0.3.0 in /usr/local/linux/mambaforge-3.11/lib/python3.11/site-packages (from datasets) (0.3.6)\n",
      "Requirement already satisfied: pandas in /usr/local/linux/mambaforge-3.11/lib/python3.11/site-packages (from datasets) (1.5.2)\n",
      "Requirement already satisfied: xxhash in /accounts/grad/phudish_p/.local/lib/python3.11/site-packages (from datasets) (3.4.1)\n",
      "Requirement already satisfied: multiprocess in /usr/local/linux/mambaforge-3.11/lib/python3.11/site-packages (from datasets) (0.70.14)\n",
      "Requirement already satisfied: fsspec<=2023.10.0,>=2023.1.0 in /accounts/grad/phudish_p/.local/lib/python3.11/site-packages (from fsspec[http]<=2023.10.0,>=2023.1.0->datasets) (2023.10.0)\n",
      "Requirement already satisfied: aiohttp in /usr/local/linux/mambaforge-3.11/lib/python3.11/site-packages (from datasets) (3.8.3)\n",
      "Requirement already satisfied: responses<0.19 in /accounts/grad/phudish_p/.local/lib/python3.11/site-packages (from evaluate) (0.18.0)\n",
      "Requirement already satisfied: absl-py in /usr/local/linux/mambaforge-3.11/lib/python3.11/site-packages (from rouge_score) (1.4.0)\n",
      "Requirement already satisfied: nltk in /usr/local/linux/mambaforge-3.11/lib/python3.11/site-packages (from rouge_score) (3.7)\n",
      "Requirement already satisfied: six>=1.14.0 in /usr/local/linux/mambaforge-3.11/lib/python3.11/site-packages (from rouge_score) (1.16.0)\n",
      "Requirement already satisfied: attrs>=17.3.0 in /usr/local/linux/mambaforge-3.11/lib/python3.11/site-packages (from aiohttp->datasets) (22.1.0)\n",
      "Requirement already satisfied: charset-normalizer<3.0,>=2.0 in /usr/local/linux/mambaforge-3.11/lib/python3.11/site-packages (from aiohttp->datasets) (2.1.1)\n",
      "Requirement already satisfied: multidict<7.0,>=4.5 in /usr/local/linux/mambaforge-3.11/lib/python3.11/site-packages (from aiohttp->datasets) (6.0.2)\n",
      "Requirement already satisfied: async-timeout<5.0,>=4.0.0a3 in /usr/local/linux/mambaforge-3.11/lib/python3.11/site-packages (from aiohttp->datasets) (4.0.2)\n",
      "Requirement already satisfied: yarl<2.0,>=1.0 in /usr/local/linux/mambaforge-3.11/lib/python3.11/site-packages (from aiohttp->datasets) (1.8.1)\n",
      "Requirement already satisfied: frozenlist>=1.1.1 in /usr/local/linux/mambaforge-3.11/lib/python3.11/site-packages (from aiohttp->datasets) (1.3.3)\n",
      "Requirement already satisfied: aiosignal>=1.1.2 in /usr/local/linux/mambaforge-3.11/lib/python3.11/site-packages (from aiohttp->datasets) (1.3.1)\n",
      "Requirement already satisfied: typing-extensions>=3.7.4.3 in /accounts/grad/phudish_p/.local/lib/python3.11/site-packages (from huggingface-hub<1.0,>=0.19.3->transformers) (4.9.0)\n",
      "Requirement already satisfied: pyparsing!=3.0.5,>=2.0.2 in /usr/local/linux/mambaforge-3.11/lib/python3.11/site-packages (from packaging>=20.0->transformers) (3.0.9)\n",
      "Requirement already satisfied: idna<4,>=2.5 in /usr/local/linux/mambaforge-3.11/lib/python3.11/site-packages (from requests->transformers) (3.4)\n",
      "Requirement already satisfied: urllib3<1.27,>=1.21.1 in /usr/local/linux/mambaforge-3.11/lib/python3.11/site-packages (from requests->transformers) (1.26.13)\n",
      "Requirement already satisfied: certifi>=2017.4.17 in /usr/local/linux/mambaforge-3.11/lib/python3.11/site-packages (from requests->transformers) (2023.11.17)\n",
      "Requirement already satisfied: click in /accounts/grad/phudish_p/.local/lib/python3.11/site-packages (from nltk->rouge_score) (8.1.7)\n",
      "Requirement already satisfied: joblib in /accounts/grad/phudish_p/.local/lib/python3.11/site-packages (from nltk->rouge_score) (1.1.1)\n",
      "Requirement already satisfied: python-dateutil>=2.8.1 in /usr/local/linux/mambaforge-3.11/lib/python3.11/site-packages (from pandas->datasets) (2.8.2)\n",
      "Requirement already satisfied: pytz>=2020.1 in /usr/local/linux/mambaforge-3.11/lib/python3.11/site-packages (from pandas->datasets) (2023.3)\n",
      "Building wheels for collected packages: rouge_score\n",
      "  Building wheel for rouge_score (setup.py) ... \u001b[?25ldone\n",
      "\u001b[?25h  Created wheel for rouge_score: filename=rouge_score-0.1.2-py3-none-any.whl size=24935 sha256=5490276cf743e6f0c6021942ee4fb6cd96eb5f934a15b8e8499b52de8b5fb246\n",
      "  Stored in directory: /tmp/.xdg_cache_phudish_p/pip/wheels/1e/19/43/8a442dc83660ca25e163e1bd1f89919284ab0d0c1475475148\n",
      "Successfully built rouge_score\n",
      "Installing collected packages: rouge_score\n",
      "Successfully installed rouge_score-0.1.2\n"
     ]
    }
   ],
   "source": [
    "!pip install transformers datasets evaluate rouge_score"
   ]
  },
  {
   "cell_type": "code",
   "execution_count": 1,
   "metadata": {},
   "outputs": [
    {
     "data": {
      "application/vnd.jupyter.widget-view+json": {
       "model_id": "17bd0489d2ee4c40bdcdbecc393db845",
       "version_major": 2,
       "version_minor": 0
      },
      "text/plain": [
       "VBox(children=(HTML(value='<center> <img\\nsrc=https://huggingface.co/front/assets/huggingface_logo-noborder.sv…"
      ]
     },
     "metadata": {},
     "output_type": "display_data"
    }
   ],
   "source": [
    "from huggingface_hub import notebook_login\n",
    "notebook_login()"
   ]
  },
  {
   "cell_type": "code",
   "execution_count": 1,
   "metadata": {},
   "outputs": [],
   "source": [
    "from datasets import load_dataset\n",
    "billsum = load_dataset(\"billsum\", split=\"ca_test\")\n",
    "billsum = billsum.train_test_split(test_size=0.2,seed=42)"
   ]
  },
  {
   "cell_type": "code",
   "execution_count": 2,
   "metadata": {},
   "outputs": [
    {
     "data": {
      "application/vnd.jupyter.widget-view+json": {
       "model_id": "29cac09edf4e4b7e8008f52455a6a466",
       "version_major": 2,
       "version_minor": 0
      },
      "text/plain": [
       "Downloading tokenizer_config.json:   0%|          | 0.00/26.0 [00:00<?, ?B/s]"
      ]
     },
     "metadata": {},
     "output_type": "display_data"
    },
    {
     "data": {
      "application/vnd.jupyter.widget-view+json": {
       "model_id": "db299fadc9e3425fb8962c87bf08dcf6",
       "version_major": 2,
       "version_minor": 0
      },
      "text/plain": [
       "Downloading config.json:   0%|          | 0.00/665 [00:00<?, ?B/s]"
      ]
     },
     "metadata": {},
     "output_type": "display_data"
    },
    {
     "data": {
      "application/vnd.jupyter.widget-view+json": {
       "model_id": "e0d6fa33b4294556a6a5fb6c42acd13e",
       "version_major": 2,
       "version_minor": 0
      },
      "text/plain": [
       "Downloading vocab.json:   0%|          | 0.00/1.04M [00:00<?, ?B/s]"
      ]
     },
     "metadata": {},
     "output_type": "display_data"
    },
    {
     "data": {
      "application/vnd.jupyter.widget-view+json": {
       "model_id": "5033d5b14aed431085311a4cea27d457",
       "version_major": 2,
       "version_minor": 0
      },
      "text/plain": [
       "Downloading merges.txt:   0%|          | 0.00/456k [00:00<?, ?B/s]"
      ]
     },
     "metadata": {},
     "output_type": "display_data"
    },
    {
     "data": {
      "application/vnd.jupyter.widget-view+json": {
       "model_id": "2305a1dacbcf4655a69d7152cf0ebb0a",
       "version_major": 2,
       "version_minor": 0
      },
      "text/plain": [
       "Downloading tokenizer.json:   0%|          | 0.00/1.36M [00:00<?, ?B/s]"
      ]
     },
     "metadata": {},
     "output_type": "display_data"
    }
   ],
   "source": [
    "from transformers import AutoTokenizer\n",
    "checkpoint = \"openai-community/gpt2\"\n",
    "tokenizer = AutoTokenizer.from_pretrained(checkpoint)"
   ]
  },
  {
   "cell_type": "code",
   "execution_count": 3,
   "metadata": {},
   "outputs": [],
   "source": [
    "prefix = \"summarize: \"\n",
    "def preprocess_function(examples):\n",
    "    inputs = [prefix + doc + \" TL;DR\" for doc in examples[\"text\"]]\n",
    "    model_inputs = tokenizer(inputs, max_length=1024, truncation=True)\n",
    "\n",
    "    labels = tokenizer(text_target=examples[\"summary\"], max_length=128, truncation=True)\n",
    "\n",
    "    model_inputs[\"labels\"] = labels[\"input_ids\"]\n",
    "    return model_inputs"
   ]
  },
  {
   "cell_type": "code",
   "execution_count": 4,
   "metadata": {},
   "outputs": [
    {
     "data": {
      "application/vnd.jupyter.widget-view+json": {
       "model_id": "24d27040d48141fd8019345c907b3f53",
       "version_major": 2,
       "version_minor": 0
      },
      "text/plain": [
       "Map:   0%|          | 0/989 [00:00<?, ? examples/s]"
      ]
     },
     "metadata": {},
     "output_type": "display_data"
    },
    {
     "data": {
      "application/vnd.jupyter.widget-view+json": {
       "model_id": "a410bf8e14fa48b69f1532d113818973",
       "version_major": 2,
       "version_minor": 0
      },
      "text/plain": [
       "Map:   0%|          | 0/248 [00:00<?, ? examples/s]"
      ]
     },
     "metadata": {},
     "output_type": "display_data"
    }
   ],
   "source": [
    "tokenized_billsum = billsum.map(preprocess_function, batched=True)"
   ]
  },
  {
   "cell_type": "code",
   "execution_count": 6,
   "metadata": {},
   "outputs": [
    {
     "name": "stdout",
     "output_type": "stream",
     "text": [
      "{'text': 'The people of the State of California do enact as follows:\\n\\n\\nSECTION 1.\\nThis act shall be known, and may be cited, as the Pool Safety Act.\\nSEC. 2.\\nThe Legislature finds and declares all of the following:\\n(a) Swimming pools provide children and their families with a wonderful opportunity for recreation, exercise, and fun. Keeping children safe during this activity is supported by parents and guardians, safety advocates, health providers, insurance companies, and the swimming pool industry.\\n(b) According to both the federal Centers for Disease Control and Prevention’s National Center for Injury Prevention and Control and the State Department of Public Health’s EpiCenter data, drowning is the leading cause of death for California children one to four years of age, inclusive.\\n(c) Additional children suffer near-drowning incidents and survive, but many of those children suffer irreversible brain injuries, which can lead to lifelong learning deficiencies that impact not only the affected child and his or her family, but also the resources and moneys available to California’s health care system, regional centers, and special education school programs.\\n(d) Close parental supervision of children with access to swimming pools is essential to providing pool safety for children. Barriers, such as those required pursuant to Section 115922 of the Health and Safety Code, can help to deter young children from gaining unsupervised access to pools. Swimming lessons are encouraged and can help children understand the importance of water safety.\\n(e) All water sports activities come with risk. Knowing the risks and having drowning prevention strategies in place before and during water sports activities reduce drowning incidents, and the installation of a residential pool barrier is a leading strategy to further California’s goal of dramatically reducing unintentional injury.\\nSEC. 3.\\nSection 7195 of the Business and Professions Code is amended to read:\\n7195.\\nFor purposes of this chapter, the following definitions apply:\\n(a) (1) “Home inspection” is a noninvasive, physical examination, performed for a fee in connection with a transfer, as defined in subdivision (e), of real property, of the mechanical, electrical, or plumbing systems or the structural and essential components of a residential dwelling of one to four units designed to identify material defects in those systems, structures, and components. “Home inspection” includes any consultation regarding the property that is represented to be a home inspection or any confusingly similar term.\\n(2) In connection with a transfer, as defined in subdivision (e), of real property with a swimming pool or spa, a “home inspection” shall include a noninvasive physical examination of the pool or spa and dwelling for the purpose of identifying which, if any, of the seven drowning prevention safety features listed in subdivision (a) of Section 115922 of the Health and Safety Code the pool or spa is equipped with.\\n(3) “Home inspection,” if requested by the client, may include an inspection of energy efficiency. Energy efficiency items to be inspected may include the following:\\n(A) A noninvasive inspection of insulation R-values in attics, roofs, walls, floors, and ducts.\\n(B) The number of window glass panes and frame types.\\n(C) The heating and cooling equipment and water heating systems.\\n(D) The age and fuel type of major appliances.\\n(E) The exhaust and cooling fans.\\n(F) The type of thermostat and other systems.\\n(G) The general integrity and potential leakage areas of walls, window areas, doors, and duct systems.\\n(H) The solar control efficiency of existing windows.\\n(b) A “material defect” is a condition that significantly affects the value, desirability, habitability, or safety of the dwelling. Style or aesthetics shall not be considered in determining whether a system, structure, or component is defective.\\n(c) A “home inspection report” is a written report prepared for a fee and issued after a home inspection. The report clearly describes and identifies the inspected systems, structures, or components of the dwelling, any material defects identified, and any recommendations regarding the conditions observed or recommendations for evaluation by appropriate persons. In a dwelling with a pool or spa, the “home inspection report” shall identify which, if any, of the seven drowning prevention safety features listed in subdivision (a) of Section 115922 of the Health and Safety Code the pool or spa is equipped with and shall specifically state if the pool or spa has fewer than two of the listed drowning prevention safety features.\\n(d) A “home inspector” is any individual who performs a home inspection.\\n(e) “Transfer” is a transfer by sale, exchange, installment land sales contract, as defined in Section 2985 of the Civil Code, lease with an option to purchase, any other option to purchase, or ground lease coupled with improvements, of real property or residential stock cooperative, improved with or consisting of not less than one nor more than four dwelling units.\\nSEC. 4.\\nSection 115922 of the Health and Safety Code is amended to read:\\n115922.\\n(a) Except as provided in Section 115925, when a building permit is issued for the construction of a new swimming pool or spa or the remodeling of an existing swimming pool or spa at a private single-family home, the swimming pool or spa shall be equipped with at least two of the following seven drowning prevention safety features:\\n(1) An enclosure that meets the requirements of Section 115923 and isolates the swimming pool or spa from the private single-family home.\\n(2) Removable mesh fencing that meets American Society for Testing and Materials (ASTM) Specifications F 2286 standards in conjunction with a gate that is self-closing and self-latching and can accommodate a key lockable device.\\n(3) An approved safety pool cover, as defined in subdivision (d) of Section 115921.\\n(4) Exit alarms on the private single-family home’s doors that provide direct access to the swimming pool or spa. The exit alarm may cause either an alarm noise or a verbal warning, such as a repeating notification that “the door to the pool is open.”\\n(5) A self-closing, self-latching device with a release mechanism placed no lower than 54 inches above the floor on the private single-family home’s doors providing direct access to the swimming pool or spa.\\n(6) An alarm that, when placed in a swimming pool or spa, will sound upon detection of accidental or unauthorized entrance into the water. The alarm shall meet and be independently certified to the ASTM Standard F 2208 “Standards Specification for Pool Alarms,” which includes surface motion, pressure, sonar, laser, and infrared type alarms. A swimming protection alarm feature designed for individual use, including an alarm attached to a child that sounds when the child exceeds a certain distance or becomes submerged in water, is not a qualifying drowning prevention safety feature.\\n(7) Other means of protection, if the degree of protection afforded is equal to or greater than that afforded by any of the features set forth above and has been independently verified by an approved testing laboratory as meeting standards for those features established by the ASTM or the American Society of Mechanical Engineers (ASME).\\n(b) Before the issuance of a final approval for the completion of permitted construction or remodeling work, the local building code official shall inspect the drowning safety prevention features required by this act and, if no violations are found, shall give final approval.\\nSEC. 5.\\nSection 115925 of the Health and Safety Code is amended to read:\\n115925.\\nThe requirements of this article shall not apply to any of the following:\\n(a) Public swimming pools.\\n(b) Hot tubs or spas with locking safety covers that comply with the American Society for Testing Materials (ASTM F1346).\\n(c) An apartment complex, or any residential setting other than a single-family home.\\nSEC. 6.\\nIf the Commission on State Mandates determines that this act contains costs mandated by the state, reimbursement to local agencies and school districts for those costs shall be made pursuant to Part 7 (commencing with Section 17500) of Division 4 of Title 2 of the Government Code.', 'summary': 'Existing law, the Swimming Pool Safety Act, provides that it does not apply to any pool within the jurisdiction of any political subdivision that adopts an ordinance for swimming pools, as specified. The act further requires, when a building permit is issued for construction of a new swimming pool or spa, or the remodeling of an existing pool or spa, at a private, single-family home, that the pool or spa be equipped with at least 1 of 7 drowning prevention safety features. The act requires the local building code official to inspect and approve the drowning safety prevention devices before the issuance of a final approval for the completion of permitted construction or remodeling work.\\nThis bill would instead require, when a building permit is issued, that the pool or spa be equipped with at least 2 of the 7 drowning prevention safety features. By imposing additional duties on local officials, this bill would impose a state-mandated local program. The bill would remove the exemption for the above-described political subdivisions.\\nExisting law defines terms related to paid home inspections, establishes a standard of care for home inspectors, and prohibits certain inspections in which the inspector or the inspector’s employer, as specified, has a financial interest.\\nThis bill would require a home inspection for real property with a swimming pool or spa to include a noninvasive physical examination of the pool or spa and dwelling for the purpose of identifying which, if any, of the specified 7 drowning prevention safety features the pool or spa is equipped with.\\nThe California Constitution requires the state to reimburse local agencies and school districts for certain costs mandated by the state. Statutory provisions establish procedures for making that reimbursement.\\nThis bill would provide that, if the Commission on State Mandates determines that the bill contains costs mandated by the state, reimbursement for those costs shall be made pursuant to these statutory provisions.', 'title': 'An act to amend Section 7195 of the Business and Professions Code, and to amend Sections 115922 and 115925 of the Health and Safety Code, relating to public health.', 'input_ids': [16345, 3876, 1096, 25, 383, 661, 286, 262, 1812, 286, 3442, 466, 10865, 355, 5679, 25, 628, 198, 50, 24565, 352, 13, 198, 1212, 719, 2236, 307, 1900, 11, 290, 743, 307, 9181, 11, 355, 262, 19850, 11233, 2191, 13, 198, 23683, 13, 362, 13, 198, 464, 20815, 7228, 290, 24183, 477, 286, 262, 1708, 25, 198, 7, 64, 8, 2451, 27428, 20354, 2148, 1751, 290, 511, 4172, 351, 257, 7932, 3663, 329, 27702, 11, 5517, 11, 290, 1257, 13, 33311, 1751, 3338, 1141, 428, 3842, 318, 4855, 416, 3397, 290, 32769, 11, 3747, 11009, 11, 1535, 9549, 11, 5096, 2706, 11, 290, 262, 14899, 5933, 2831, 13, 198, 7, 65, 8, 4784, 284, 1111, 262, 2717, 22223, 329, 17344, 6779, 290, 18313, 447, 247, 82, 2351, 3337, 329, 40883, 18313, 290, 6779, 290, 262, 1812, 2732, 286, 5094, 3893, 447, 247, 82, 4551, 72, 23656, 1366, 11, 32249, 318, 262, 3756, 2728, 286, 1918, 329, 3442, 1751, 530, 284, 1440, 812, 286, 2479, 11, 19889, 13, 198, 7, 66, 8, 15891, 1751, 8659, 1474, 12, 67, 2053, 278, 10207, 290, 7866, 11, 475, 867, 286, 883, 1751, 8659, 43635, 3632, 6821, 11, 543, 460, 1085, 284, 25837, 4673, 33589, 326, 2928, 407, 691, 262, 5676, 1200, 290, 465, 393, 607, 1641, 11, 475, 635, 262, 4133, 290, 285, 505, 893, 1695, 284, 3442, 447, 247, 82, 1535, 1337, 1080, 11, 7915, 10399, 11, 290, 2041, 3707, 1524, 4056, 13, 198, 7, 67, 8, 13872, 21694, 20865, 286, 1751, 351, 1895, 284, 14899, 20354, 318, 6393, 284, 4955, 5933, 3747, 329, 1751, 13, 2409, 8910, 11, 884, 355, 883, 2672, 12997, 284, 7275, 12279, 24, 1828, 286, 262, 3893, 290, 11233, 6127, 11, 460, 1037, 284, 2206, 1862, 1751, 422, 13977, 555, 16668, 16149, 1895, 284, 20354, 13, 2451, 27428, 11658, 389, 10085, 290, 460, 1037, 1751, 1833, 262, 6817, 286, 1660, 3747, 13, 198, 7, 68, 8, 1439, 1660, 5701, 4568, 1282, 351, 2526, 13, 29154, 262, 7476, 290, 1719, 32249, 14196, 10064, 287, 1295, 878, 290, 1141, 1660, 5701, 4568, 4646, 32249, 10207, 11, 290, 262, 9988, 286, 257, 12420, 5933, 13054, 318, 257, 3756, 4811, 284, 2252, 3442, 447, 247, 82, 3061, 286, 12034, 8868, 48398, 5095, 13, 198, 23683, 13, 513, 13, 198, 16375, 767, 22186, 286, 262, 7320, 290, 4415, 6202, 6127, 318, 11412, 284, 1100, 25, 198, 22, 22186, 13, 198, 1890, 4959, 286, 428, 6843, 11, 262, 1708, 17336, 4174, 25, 198, 7, 64, 8, 357, 16, 8, 564, 250, 16060, 15210, 447, 251, 318, 257, 1729, 259, 23747, 11, 3518, 12452, 11, 6157, 329, 257, 6838, 287, 4637, 351, 257, 4351, 11, 355, 5447, 287, 29648, 357, 68, 828, 286, 1103, 3119, 11, 286, 262, 12370, 11, 12278, 11, 393, 40199, 3341, 393, 262, 13204, 290, 6393, 6805, 286, 257, 12420, 26765, 286, 530, 284, 1440, 4991, 3562, 284, 5911, 2587, 22448, 287, 883, 3341, 11, 8573, 11, 290, 6805, 13, 564, 250, 16060, 15210, 447, 251, 3407, 597, 18103, 5115, 262, 3119, 326, 318, 7997, 284, 307, 257, 1363, 15210, 393, 597, 15337, 306, 2092, 3381, 13, 198, 7, 17, 8, 554, 4637, 351, 257, 4351, 11, 355, 5447, 287, 29648, 357, 68, 828, 286, 1103, 3119, 351, 257, 14899, 5933, 393, 41900, 11, 257, 564, 250, 11195, 15210, 447, 251, 2236, 2291, 257, 1729, 259, 23747, 3518, 12452, 286, 262, 5933, 393, 41900, 290, 26765, 329, 262, 4007, 286, 13720, 543, 11, 611, 597, 11, 286, 262, 3598, 32249, 14196, 3747, 3033, 5610, 287, 29648, 357, 64, 8, 286, 7275, 12279, 24, 1828, 286, 262, 3893, 290, 11233, 6127, 262, 5933, 393, 41900, 318, 10911, 351, 13, 198, 7, 18, 8, 564, 250, 16060, 15210, 11, 447, 251, 611, 9167, 416, 262, 5456, 11, 743, 2291, 281, 15210, 286, 2568, 9332, 13, 6682, 9332, 3709, 284, 307, 34295, 743, 2291, 262, 1708, 25, 198, 7, 32, 8, 317, 1729, 259, 23747, 15210, 286, 32806, 371, 12, 27160, 287, 708, 873, 11, 42251, 11, 7714, 11, 18570, 11, 290, 28494, 82, 13, 198, 7, 33, 8, 383, 1271, 286, 4324, 5405, 3425, 274, 290, 5739, 3858, 13, 198, 7, 34, 8, 383, 16930, 290, 15134, 5112, 290, 1660, 16930, 3341, 13, 198, 7, 35, 8, 383, 2479, 290, 5252, 2099, 286, 1688, 29834, 13, 198, 7, 36, 8, 383, 12142, 290, 15134, 3296, 13, 198, 7, 37, 8, 383, 2099, 286, 10811, 1712, 265, 290, 584, 3341, 13, 198, 7, 38, 8, 383, 2276, 11540, 290, 2785, 47988, 3006, 286, 7714, 11, 4324, 3006, 11, 8215, 11, 290, 28494, 3341, 13, 198, 7, 39, 8, 383, 6591, 1630, 9332, 286, 4683, 9168, 13, 198, 7, 65, 8, 317, 564, 250, 33665, 11855, 447, 251, 318, 257, 4006, 326, 5566, 10975, 262, 1988, 11, 748, 343, 1799, 11, 7947, 1799, 11, 393, 3747, 286, 262, 26765, 13, 17738, 393, 35431, 2236, 407, 307, 3177, 287, 13213, 1771, 257, 1080, 11, 4645, 11, 393, 7515, 318, 32129, 13, 198, 7, 66, 8, 317, 564, 250, 11195, 15210, 989, 447, 251, 318, 257, 3194, 989, 5597, 329, 257, 6838, 290, 4884, 706, 257, 1363, 15210, 13, 383, 989, 4084, 8477, 290, 21079, 262, 34295, 3341, 11, 8573, 11, 393, 6805, 286, 262, 26765, 11, 597, 2587, 22448, 5174, 11, 290, 597, 10763, 5115, 262, 3403, 6515, 393, 10763, 329, 12660, 416, 5035, 6506, 13, 554, 257, 26765, 351, 257, 5933, 393, 41900, 11, 262, 564, 250, 11195, 15210, 989, 447, 251, 2236, 5911, 543, 11, 611, 597, 11, 286, 262, 3598, 32249, 14196, 3747, 3033, 5610, 287, 29648, 357, 64, 8, 286, 7275, 12279, 24, 1828, 286, 262, 3893, 290, 11233, 6127, 262, 5933, 393, 41900, 318, 10911, 351, 290, 2236, 5734, 1181, 611, 262, 5933, 393, 41900, 468, 7380, 621, 734, 286, 262, 5610, 32249, 14196, 3747, 3033, 13, 198, 7, 67, 8, 317, 564, 250, 11195, 24110, 447, 251, 318, 597, 1981, 508, 17706, 257, 1363, 15210, 13, 198, 7, 68, 8, 564, 250, 43260, 447, 251, 318, 257, 4351, 416, 5466, 11, 5163, 11, 25168, 1956, 4200, 2775, 11, 355, 5447, 287, 7275, 2808, 5332, 286, 262, 7511, 6127, 11, 15278, 351, 281, 3038, 284], 'attention_mask': [1, 1, 1, 1, 1, 1, 1, 1, 1, 1, 1, 1, 1, 1, 1, 1, 1, 1, 1, 1, 1, 1, 1, 1, 1, 1, 1, 1, 1, 1, 1, 1, 1, 1, 1, 1, 1, 1, 1, 1, 1, 1, 1, 1, 1, 1, 1, 1, 1, 1, 1, 1, 1, 1, 1, 1, 1, 1, 1, 1, 1, 1, 1, 1, 1, 1, 1, 1, 1, 1, 1, 1, 1, 1, 1, 1, 1, 1, 1, 1, 1, 1, 1, 1, 1, 1, 1, 1, 1, 1, 1, 1, 1, 1, 1, 1, 1, 1, 1, 1, 1, 1, 1, 1, 1, 1, 1, 1, 1, 1, 1, 1, 1, 1, 1, 1, 1, 1, 1, 1, 1, 1, 1, 1, 1, 1, 1, 1, 1, 1, 1, 1, 1, 1, 1, 1, 1, 1, 1, 1, 1, 1, 1, 1, 1, 1, 1, 1, 1, 1, 1, 1, 1, 1, 1, 1, 1, 1, 1, 1, 1, 1, 1, 1, 1, 1, 1, 1, 1, 1, 1, 1, 1, 1, 1, 1, 1, 1, 1, 1, 1, 1, 1, 1, 1, 1, 1, 1, 1, 1, 1, 1, 1, 1, 1, 1, 1, 1, 1, 1, 1, 1, 1, 1, 1, 1, 1, 1, 1, 1, 1, 1, 1, 1, 1, 1, 1, 1, 1, 1, 1, 1, 1, 1, 1, 1, 1, 1, 1, 1, 1, 1, 1, 1, 1, 1, 1, 1, 1, 1, 1, 1, 1, 1, 1, 1, 1, 1, 1, 1, 1, 1, 1, 1, 1, 1, 1, 1, 1, 1, 1, 1, 1, 1, 1, 1, 1, 1, 1, 1, 1, 1, 1, 1, 1, 1, 1, 1, 1, 1, 1, 1, 1, 1, 1, 1, 1, 1, 1, 1, 1, 1, 1, 1, 1, 1, 1, 1, 1, 1, 1, 1, 1, 1, 1, 1, 1, 1, 1, 1, 1, 1, 1, 1, 1, 1, 1, 1, 1, 1, 1, 1, 1, 1, 1, 1, 1, 1, 1, 1, 1, 1, 1, 1, 1, 1, 1, 1, 1, 1, 1, 1, 1, 1, 1, 1, 1, 1, 1, 1, 1, 1, 1, 1, 1, 1, 1, 1, 1, 1, 1, 1, 1, 1, 1, 1, 1, 1, 1, 1, 1, 1, 1, 1, 1, 1, 1, 1, 1, 1, 1, 1, 1, 1, 1, 1, 1, 1, 1, 1, 1, 1, 1, 1, 1, 1, 1, 1, 1, 1, 1, 1, 1, 1, 1, 1, 1, 1, 1, 1, 1, 1, 1, 1, 1, 1, 1, 1, 1, 1, 1, 1, 1, 1, 1, 1, 1, 1, 1, 1, 1, 1, 1, 1, 1, 1, 1, 1, 1, 1, 1, 1, 1, 1, 1, 1, 1, 1, 1, 1, 1, 1, 1, 1, 1, 1, 1, 1, 1, 1, 1, 1, 1, 1, 1, 1, 1, 1, 1, 1, 1, 1, 1, 1, 1, 1, 1, 1, 1, 1, 1, 1, 1, 1, 1, 1, 1, 1, 1, 1, 1, 1, 1, 1, 1, 1, 1, 1, 1, 1, 1, 1, 1, 1, 1, 1, 1, 1, 1, 1, 1, 1, 1, 1, 1, 1, 1, 1, 1, 1, 1, 1, 1, 1, 1, 1, 1, 1, 1, 1, 1, 1, 1, 1, 1, 1, 1, 1, 1, 1, 1, 1, 1, 1, 1, 1, 1, 1, 1, 1, 1, 1, 1, 1, 1, 1, 1, 1, 1, 1, 1, 1, 1, 1, 1, 1, 1, 1, 1, 1, 1, 1, 1, 1, 1, 1, 1, 1, 1, 1, 1, 1, 1, 1, 1, 1, 1, 1, 1, 1, 1, 1, 1, 1, 1, 1, 1, 1, 1, 1, 1, 1, 1, 1, 1, 1, 1, 1, 1, 1, 1, 1, 1, 1, 1, 1, 1, 1, 1, 1, 1, 1, 1, 1, 1, 1, 1, 1, 1, 1, 1, 1, 1, 1, 1, 1, 1, 1, 1, 1, 1, 1, 1, 1, 1, 1, 1, 1, 1, 1, 1, 1, 1, 1, 1, 1, 1, 1, 1, 1, 1, 1, 1, 1, 1, 1, 1, 1, 1, 1, 1, 1, 1, 1, 1, 1, 1, 1, 1, 1, 1, 1, 1, 1, 1, 1, 1, 1, 1, 1, 1, 1, 1, 1, 1, 1, 1, 1, 1, 1, 1, 1, 1, 1, 1, 1, 1, 1, 1, 1, 1, 1, 1, 1, 1, 1, 1, 1, 1, 1, 1, 1, 1, 1, 1, 1, 1, 1, 1, 1, 1, 1, 1, 1, 1, 1, 1, 1, 1, 1, 1, 1, 1, 1, 1, 1, 1, 1, 1, 1, 1, 1, 1, 1, 1, 1, 1, 1, 1, 1, 1, 1, 1, 1, 1, 1, 1, 1, 1, 1, 1, 1, 1, 1, 1, 1, 1, 1, 1, 1, 1, 1, 1, 1, 1, 1, 1, 1, 1, 1, 1, 1, 1, 1, 1, 1, 1, 1, 1, 1, 1, 1, 1, 1, 1, 1, 1, 1, 1, 1, 1, 1, 1, 1, 1, 1, 1, 1, 1, 1, 1, 1, 1, 1, 1, 1, 1, 1, 1, 1, 1, 1, 1, 1, 1, 1, 1, 1, 1, 1, 1, 1, 1, 1, 1, 1, 1, 1, 1, 1, 1, 1, 1, 1, 1, 1, 1, 1, 1, 1, 1, 1, 1, 1, 1, 1, 1, 1, 1, 1, 1, 1, 1, 1, 1, 1, 1, 1, 1, 1, 1, 1, 1, 1, 1, 1, 1, 1, 1, 1, 1, 1, 1, 1, 1, 1, 1, 1, 1, 1, 1, 1, 1, 1, 1, 1, 1, 1, 1, 1, 1, 1, 1, 1, 1, 1, 1, 1, 1, 1, 1, 1, 1, 1, 1, 1, 1, 1, 1, 1, 1, 1, 1, 1, 1, 1, 1, 1, 1, 1, 1, 1, 1, 1, 1, 1, 1, 1, 1, 1, 1, 1, 1, 1, 1, 1, 1, 1, 1, 1, 1, 1, 1, 1, 1, 1, 1, 1, 1, 1, 1, 1, 1, 1, 1, 1, 1, 1, 1, 1, 1, 1, 1, 1, 1, 1, 1, 1, 1, 1, 1, 1, 1, 1, 1, 1, 1, 1, 1, 1, 1, 1, 1, 1, 1, 1, 1, 1, 1, 1, 1, 1, 1, 1, 1, 1, 1, 1, 1, 1, 1, 1, 1, 1], 'labels': [3109, 9665, 1099, 11, 262, 2451, 27428, 19850, 11233, 2191, 11, 3769, 326, 340, 857, 407, 4174, 284, 597, 5933, 1626, 262, 12934, 286, 597, 1964, 29648, 326, 4344, 912, 281, 19784, 329, 14899, 20354, 11, 355, 7368, 13, 383, 719, 2252, 4433, 11, 618, 257, 2615, 8749, 318, 4884, 329, 5103, 286, 257, 649, 14899, 5933, 393, 41900, 11, 393, 262, 38977, 10809, 286, 281, 4683, 5933, 393, 41900, 11, 379, 257, 2839, 11, 2060, 12, 17989, 1363, 11, 326, 262, 5933, 393, 41900, 307, 10911, 351, 379, 1551, 352, 286, 767, 32249, 14196, 3747, 3033, 13, 383, 719, 4433, 262, 1957, 2615, 2438, 1743, 284, 10104, 290, 14762, 262, 32249, 3747, 14196, 4410, 878, 262, 30145, 286, 257, 2457, 7546, 329, 262, 11939, 286, 10431, 5103]}\n"
     ]
    }
   ],
   "source": [
    "print(tokenized_billsum[\"train\"][0])"
   ]
  },
  {
   "cell_type": "code",
   "execution_count": 7,
   "metadata": {},
   "outputs": [
    {
     "name": "stderr",
     "output_type": "stream",
     "text": [
      "2024-03-22 20:38:52.943779: I tensorflow/tsl/cuda/cudart_stub.cc:28] Could not find cuda drivers on your machine, GPU will not be used.\n",
      "2024-03-22 20:38:52.968325: I tensorflow/tsl/cuda/cudart_stub.cc:28] Could not find cuda drivers on your machine, GPU will not be used.\n",
      "2024-03-22 20:38:52.969144: I tensorflow/core/platform/cpu_feature_guard.cc:182] This TensorFlow binary is optimized to use available CPU instructions in performance-critical operations.\n",
      "To enable the following instructions: AVX2 FMA, in other operations, rebuild TensorFlow with the appropriate compiler flags.\n",
      "2024-03-22 20:38:54.062146: W tensorflow/compiler/tf2tensorrt/utils/py_utils.cc:38] TF-TRT Warning: Could not find TensorRT\n"
     ]
    }
   ],
   "source": [
    "from transformers import DataCollatorForSeq2Seq\n",
    "data_collator = DataCollatorForSeq2Seq(tokenizer=tokenizer, model=checkpoint)"
   ]
  },
  {
   "cell_type": "code",
   "execution_count": 9,
   "metadata": {},
   "outputs": [],
   "source": [
    "import evaluate\n",
    "rouge = evaluate.load(\"rouge\")"
   ]
  },
  {
   "cell_type": "code",
   "execution_count": 10,
   "metadata": {},
   "outputs": [],
   "source": [
    "import numpy as np\n",
    "def compute_metrics(eval_pred):\n",
    "    predictions, labels = eval_pred\n",
    "    #print(f\"Predictions : {predictions}\")\n",
    "    #print(f\"Labels : {labels}\")\n",
    "    decoded_preds = tokenizer.batch_decode(predictions, skip_special_tokens=True)\n",
    "    labels = np.where(labels != -100, labels, tokenizer.pad_token_id)\n",
    "    decoded_labels = tokenizer.batch_decode(labels, skip_special_tokens=True)\n",
    "\n",
    "    result = rouge.compute(predictions=decoded_preds, references=decoded_labels, use_stemmer=True)\n",
    "\n",
    "    prediction_lens = [np.count_nonzero(pred != tokenizer.pad_token_id) for pred in predictions]\n",
    "    result[\"gen_len\"] = np.mean(prediction_lens)\n",
    "\n",
    "    return {k: round(v, 4) for k, v in result.items()}"
   ]
  },
  {
   "cell_type": "code",
   "execution_count": 11,
   "metadata": {},
   "outputs": [
    {
     "data": {
      "application/vnd.jupyter.widget-view+json": {
       "model_id": "fdb4c2e5506f4cb281093e641af35604",
       "version_major": 2,
       "version_minor": 0
      },
      "text/plain": [
       "Downloading model.safetensors:   0%|          | 0.00/548M [00:00<?, ?B/s]"
      ]
     },
     "metadata": {},
     "output_type": "display_data"
    },
    {
     "data": {
      "application/vnd.jupyter.widget-view+json": {
       "model_id": "ac76b998034a41569da205a935509e94",
       "version_major": 2,
       "version_minor": 0
      },
      "text/plain": [
       "Downloading generation_config.json:   0%|          | 0.00/124 [00:00<?, ?B/s]"
      ]
     },
     "metadata": {},
     "output_type": "display_data"
    }
   ],
   "source": [
    "from transformers import GPT2LMHeadModel, Seq2SeqTrainingArguments, Seq2SeqTrainer\n",
    "model = GPT2LMHeadModel.from_pretrained(checkpoint)"
   ]
  },
  {
   "cell_type": "code",
   "execution_count": 12,
   "metadata": {},
   "outputs": [
    {
     "ename": "ValueError",
     "evalue": "FP16 Mixed precision training with AMP or APEX (`--fp16`) and FP16 half precision evaluation (`--fp16_full_eval`) can only be used on CUDA or NPU devices or certain XPU devices (with IPEX).",
     "output_type": "error",
     "traceback": [
      "\u001b[0;31m---------------------------------------------------------------------------\u001b[0m",
      "\u001b[0;31mValueError\u001b[0m                                Traceback (most recent call last)",
      "Cell \u001b[0;32mIn[12], line 1\u001b[0m\n\u001b[0;32m----> 1\u001b[0m training_args \u001b[38;5;241m=\u001b[39m \u001b[43mSeq2SeqTrainingArguments\u001b[49m\u001b[43m(\u001b[49m\n\u001b[1;32m      2\u001b[0m \u001b[43m    \u001b[49m\u001b[43moutput_dir\u001b[49m\u001b[38;5;241;43m=\u001b[39;49m\u001b[38;5;124;43m\"\u001b[39;49m\u001b[38;5;124;43mmy_awesome_billsum_model\u001b[39;49m\u001b[38;5;124;43m\"\u001b[39;49m\u001b[43m,\u001b[49m\n\u001b[1;32m      3\u001b[0m \u001b[43m    \u001b[49m\u001b[43mevaluation_strategy\u001b[49m\u001b[38;5;241;43m=\u001b[39;49m\u001b[38;5;124;43m\"\u001b[39;49m\u001b[38;5;124;43mepoch\u001b[39;49m\u001b[38;5;124;43m\"\u001b[39;49m\u001b[43m,\u001b[49m\n\u001b[1;32m      4\u001b[0m \u001b[43m    \u001b[49m\u001b[43mlearning_rate\u001b[49m\u001b[38;5;241;43m=\u001b[39;49m\u001b[38;5;241;43m2e-5\u001b[39;49m\u001b[43m,\u001b[49m\n\u001b[1;32m      5\u001b[0m \u001b[43m    \u001b[49m\u001b[43mper_device_train_batch_size\u001b[49m\u001b[38;5;241;43m=\u001b[39;49m\u001b[38;5;241;43m16\u001b[39;49m\u001b[43m,\u001b[49m\n\u001b[1;32m      6\u001b[0m \u001b[43m    \u001b[49m\u001b[43mper_device_eval_batch_size\u001b[49m\u001b[38;5;241;43m=\u001b[39;49m\u001b[38;5;241;43m16\u001b[39;49m\u001b[43m,\u001b[49m\n\u001b[1;32m      7\u001b[0m \u001b[43m    \u001b[49m\u001b[43mweight_decay\u001b[49m\u001b[38;5;241;43m=\u001b[39;49m\u001b[38;5;241;43m0.01\u001b[39;49m\u001b[43m,\u001b[49m\n\u001b[1;32m      8\u001b[0m \u001b[43m    \u001b[49m\u001b[43msave_total_limit\u001b[49m\u001b[38;5;241;43m=\u001b[39;49m\u001b[38;5;241;43m3\u001b[39;49m\u001b[43m,\u001b[49m\n\u001b[1;32m      9\u001b[0m \u001b[43m    \u001b[49m\u001b[43mnum_train_epochs\u001b[49m\u001b[38;5;241;43m=\u001b[39;49m\u001b[38;5;241;43m1\u001b[39;49m\u001b[43m,\u001b[49m\n\u001b[1;32m     10\u001b[0m \u001b[43m    \u001b[49m\u001b[43mpredict_with_generate\u001b[49m\u001b[38;5;241;43m=\u001b[39;49m\u001b[38;5;28;43;01mTrue\u001b[39;49;00m\u001b[43m,\u001b[49m\n\u001b[1;32m     11\u001b[0m \u001b[43m    \u001b[49m\u001b[43mfp16\u001b[49m\u001b[38;5;241;43m=\u001b[39;49m\u001b[38;5;28;43;01mTrue\u001b[39;49;00m\u001b[43m,\u001b[49m\n\u001b[1;32m     12\u001b[0m \u001b[43m    \u001b[49m\u001b[43mpush_to_hub\u001b[49m\u001b[38;5;241;43m=\u001b[39;49m\u001b[38;5;28;43;01mTrue\u001b[39;49;00m\u001b[43m,\u001b[49m\n\u001b[1;32m     13\u001b[0m \u001b[43m)\u001b[49m\n\u001b[1;32m     15\u001b[0m trainer \u001b[38;5;241m=\u001b[39m Seq2SeqTrainer(\n\u001b[1;32m     16\u001b[0m     model\u001b[38;5;241m=\u001b[39mmodel,\n\u001b[1;32m     17\u001b[0m     args\u001b[38;5;241m=\u001b[39mtraining_args,\n\u001b[0;32m   (...)\u001b[0m\n\u001b[1;32m     22\u001b[0m     compute_metrics\u001b[38;5;241m=\u001b[39mcompute_metrics,\n\u001b[1;32m     23\u001b[0m )\n\u001b[1;32m     25\u001b[0m trainer\u001b[38;5;241m.\u001b[39mtrain()\n",
      "File \u001b[0;32m<string>:120\u001b[0m, in \u001b[0;36m__init__\u001b[0;34m(self, output_dir, overwrite_output_dir, do_train, do_eval, do_predict, evaluation_strategy, prediction_loss_only, per_device_train_batch_size, per_device_eval_batch_size, per_gpu_train_batch_size, per_gpu_eval_batch_size, gradient_accumulation_steps, eval_accumulation_steps, eval_delay, learning_rate, weight_decay, adam_beta1, adam_beta2, adam_epsilon, max_grad_norm, num_train_epochs, max_steps, lr_scheduler_type, warmup_ratio, warmup_steps, log_level, log_level_replica, log_on_each_node, logging_dir, logging_strategy, logging_first_step, logging_steps, logging_nan_inf_filter, save_strategy, save_steps, save_total_limit, save_safetensors, save_on_each_node, no_cuda, use_cpu, use_mps_device, seed, data_seed, jit_mode_eval, use_ipex, bf16, fp16, fp16_opt_level, half_precision_backend, bf16_full_eval, fp16_full_eval, tf32, local_rank, ddp_backend, tpu_num_cores, tpu_metrics_debug, debug, dataloader_drop_last, eval_steps, dataloader_num_workers, past_index, run_name, disable_tqdm, remove_unused_columns, label_names, load_best_model_at_end, metric_for_best_model, greater_is_better, ignore_data_skip, sharded_ddp, fsdp, fsdp_min_num_params, fsdp_config, fsdp_transformer_layer_cls_to_wrap, deepspeed, label_smoothing_factor, optim, optim_args, adafactor, group_by_length, length_column_name, report_to, ddp_find_unused_parameters, ddp_bucket_cap_mb, ddp_broadcast_buffers, dataloader_pin_memory, skip_memory_metrics, use_legacy_prediction_loop, push_to_hub, resume_from_checkpoint, hub_model_id, hub_strategy, hub_token, hub_private_repo, hub_always_push, gradient_checkpointing, include_inputs_for_metrics, fp16_backend, push_to_hub_model_id, push_to_hub_organization, push_to_hub_token, mp_parameters, auto_find_batch_size, full_determinism, torchdynamo, ray_scope, ddp_timeout, torch_compile, torch_compile_backend, torch_compile_mode, dispatch_batches, include_tokens_per_second, sortish_sampler, predict_with_generate, generation_max_length, generation_num_beams, generation_config)\u001b[0m\n",
      "File \u001b[0;32m~/.local/lib/python3.11/site-packages/transformers/training_args.py:1442\u001b[0m, in \u001b[0;36mTrainingArguments.__post_init__\u001b[0;34m(self)\u001b[0m\n\u001b[1;32m   1431\u001b[0m         \u001b[38;5;28;01mraise\u001b[39;00m \u001b[38;5;167;01mValueError\u001b[39;00m(\u001b[38;5;124m\"\u001b[39m\u001b[38;5;124m--optim adamw_torch_fused with --fp16 requires PyTorch>2.0\u001b[39m\u001b[38;5;124m\"\u001b[39m)\n\u001b[1;32m   1433\u001b[0m \u001b[38;5;28;01mif\u001b[39;00m (\n\u001b[1;32m   1434\u001b[0m     \u001b[38;5;28mself\u001b[39m\u001b[38;5;241m.\u001b[39mframework \u001b[38;5;241m==\u001b[39m \u001b[38;5;124m\"\u001b[39m\u001b[38;5;124mpt\u001b[39m\u001b[38;5;124m\"\u001b[39m\n\u001b[1;32m   1435\u001b[0m     \u001b[38;5;129;01mand\u001b[39;00m is_torch_available()\n\u001b[0;32m   (...)\u001b[0m\n\u001b[1;32m   1440\u001b[0m     \u001b[38;5;129;01mand\u001b[39;00m (\u001b[38;5;28mself\u001b[39m\u001b[38;5;241m.\u001b[39mfp16 \u001b[38;5;129;01mor\u001b[39;00m \u001b[38;5;28mself\u001b[39m\u001b[38;5;241m.\u001b[39mfp16_full_eval)\n\u001b[1;32m   1441\u001b[0m ):\n\u001b[0;32m-> 1442\u001b[0m     \u001b[38;5;28;01mraise\u001b[39;00m \u001b[38;5;167;01mValueError\u001b[39;00m(\n\u001b[1;32m   1443\u001b[0m         \u001b[38;5;124m\"\u001b[39m\u001b[38;5;124mFP16 Mixed precision training with AMP or APEX (`--fp16`) and FP16 half precision evaluation\u001b[39m\u001b[38;5;124m\"\u001b[39m\n\u001b[1;32m   1444\u001b[0m         \u001b[38;5;124m\"\u001b[39m\u001b[38;5;124m (`--fp16_full_eval`) can only be used on CUDA or NPU devices or certain XPU devices (with IPEX).\u001b[39m\u001b[38;5;124m\"\u001b[39m\n\u001b[1;32m   1445\u001b[0m     )\n\u001b[1;32m   1447\u001b[0m \u001b[38;5;28;01mif\u001b[39;00m (\n\u001b[1;32m   1448\u001b[0m     \u001b[38;5;28mself\u001b[39m\u001b[38;5;241m.\u001b[39mframework \u001b[38;5;241m==\u001b[39m \u001b[38;5;124m\"\u001b[39m\u001b[38;5;124mpt\u001b[39m\u001b[38;5;124m\"\u001b[39m\n\u001b[1;32m   1449\u001b[0m     \u001b[38;5;129;01mand\u001b[39;00m is_torch_available()\n\u001b[0;32m   (...)\u001b[0m\n\u001b[1;32m   1456\u001b[0m     \u001b[38;5;129;01mand\u001b[39;00m (\u001b[38;5;28mself\u001b[39m\u001b[38;5;241m.\u001b[39mbf16 \u001b[38;5;129;01mor\u001b[39;00m \u001b[38;5;28mself\u001b[39m\u001b[38;5;241m.\u001b[39mbf16_full_eval)\n\u001b[1;32m   1457\u001b[0m ):\n\u001b[1;32m   1458\u001b[0m     \u001b[38;5;28;01mraise\u001b[39;00m \u001b[38;5;167;01mValueError\u001b[39;00m(\n\u001b[1;32m   1459\u001b[0m         \u001b[38;5;124m\"\u001b[39m\u001b[38;5;124mBF16 Mixed precision training with AMP (`--bf16`) and BF16 half precision evaluation\u001b[39m\u001b[38;5;124m\"\u001b[39m\n\u001b[1;32m   1460\u001b[0m         \u001b[38;5;124m\"\u001b[39m\u001b[38;5;124m (`--bf16_full_eval`) can only be used on CUDA, XPU (with IPEX), NPU or CPU/TPU/NeuronCore devices.\u001b[39m\u001b[38;5;124m\"\u001b[39m\n\u001b[1;32m   1461\u001b[0m     )\n",
      "\u001b[0;31mValueError\u001b[0m: FP16 Mixed precision training with AMP or APEX (`--fp16`) and FP16 half precision evaluation (`--fp16_full_eval`) can only be used on CUDA or NPU devices or certain XPU devices (with IPEX)."
     ]
    }
   ],
   "source": [
    "training_args = Seq2SeqTrainingArguments(\n",
    "    output_dir=\"my_awesome_billsum_model\",\n",
    "    evaluation_strategy=\"epoch\",\n",
    "    learning_rate=2e-5,\n",
    "    per_device_train_batch_size=16,\n",
    "    per_device_eval_batch_size=16,\n",
    "    weight_decay=0.01,\n",
    "    save_total_limit=3,\n",
    "    num_train_epochs=1,\n",
    "    predict_with_generate=True,\n",
    "    fp16=True,\n",
    "    push_to_hub=True,\n",
    ")\n",
    "\n",
    "trainer = Seq2SeqTrainer(\n",
    "    model=model,\n",
    "    args=training_args,\n",
    "    train_dataset=tokenized_billsum[\"train\"],\n",
    "    eval_dataset=tokenized_billsum[\"test\"],\n",
    "    tokenizer=tokenizer,\n",
    "    data_collator=data_collator,\n",
    "    compute_metrics=compute_metrics,\n",
    ")\n",
    "\n",
    "trainer.train()"
   ]
  },
  {
   "cell_type": "code",
   "execution_count": null,
   "metadata": {},
   "outputs": [],
   "source": []
  }
 ],
 "metadata": {
  "kernelspec": {
   "display_name": "jupyterhub-3.1",
   "language": "python",
   "name": "python3"
  },
  "language_info": {
   "codemirror_mode": {
    "name": "ipython",
    "version": 3
   },
   "file_extension": ".py",
   "mimetype": "text/x-python",
   "name": "python",
   "nbconvert_exporter": "python",
   "pygments_lexer": "ipython3",
   "version": "3.11.0"
  }
 },
 "nbformat": 4,
 "nbformat_minor": 2
}
