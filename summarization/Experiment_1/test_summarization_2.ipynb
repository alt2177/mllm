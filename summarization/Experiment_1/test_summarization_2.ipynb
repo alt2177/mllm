{
 "cells": [
  {
   "cell_type": "code",
   "execution_count": 2,
   "metadata": {},
   "outputs": [],
   "source": [
    "text = \"The Inflation Reduction Act lowers prescription drug costs, health care costs, and energy costs. It's the most aggressive action on tackling the climate crisis in American history, which will lift up American workers and create good-paying, union jobs across the country. It'll lower the deficit and ask the ultra-wealthy and corporations to pay their fair share. And no one making under $400,000 per year will pay a penny more in taxes.\"\n",
    "input = text + \"\\nTL;DR:\\n\""
   ]
  },
  {
   "cell_type": "code",
   "execution_count": 3,
   "metadata": {},
   "outputs": [
    {
     "name": "stdout",
     "output_type": "stream",
     "text": [
      "The Inflation Reduction Act lowers prescription drug costs, health care costs, and energy costs. It's the most aggressive action on tackling the climate crisis in American history, which will lift up American workers and create good-paying, union jobs across the country. It'll lower the deficit and ask the ultra-wealthy and corporations to pay their fair share. And no one making under $400,000 per year will pay a penny more in taxes.\n",
      "TL;DR:\n",
      "\n"
     ]
    }
   ],
   "source": [
    "print(input)"
   ]
  },
  {
   "cell_type": "code",
   "execution_count": 4,
   "metadata": {},
   "outputs": [
    {
     "name": "stderr",
     "output_type": "stream",
     "text": [
      "Special tokens have been added in the vocabulary, make sure the associated word embeddings are fine-tuned or trained.\n",
      "Setting `pad_token_id` to `eos_token_id`:50256 for open-end generation.\n"
     ]
    }
   ],
   "source": [
    "from transformers import pipeline\n",
    "pipe = pipeline(\"text-generation\", model=\"mllm-dev/bill_sum_experiment_2\")\n",
    "pipe_out = pipe(input, max_length=512, clean_up_tokenization_spaces=True)"
   ]
  },
  {
   "cell_type": "code",
   "execution_count": 6,
   "metadata": {},
   "outputs": [
    {
     "name": "stdout",
     "output_type": "stream",
     "text": [
      " the act bill to is also the on of is the the employer\n",
      " would bill would and Ex the that of state law an and the be state of in costs state a\n",
      " of,s 1, law of for to. the and tax law of in Existing Existing,, ofisting in act of to. on and,isting the in to would,. bill bill to with, employer in\n",
      " the on and to act, tax act employer the would Ex of\n",
      " the Existing to the bill Existing Existing billExisting bills would Existing bill for the to that lawisting to and would or and of, as would is employers Existingisting employeeThisEx Existing or would requires the in would on employees would aisting toisting the actThis.\n",
      " bill billEx require. for The the to bill, bill and that the. law billEx bill the to the isizes would ofExEx a the of act bill billEx of would to andExs and of provisionsisting would its Ex billisting oristing the be to bill act,- employers Ex bill and aEx bill lawThis taxEx costs in an and state, act the specified, bill bill theEx Ex and act employerEx is an of costs Ex duties Ex is to Ex billExExThe. state bill bill bill- would bill that\n",
      " act state law or bill the of bill would a, for in the a billisting the bill bill, employer by this The of bill a bill impose Ex to\n",
      "izes with employer that law bill lawThe the bill,izesEx employee the of the Ex require thisThis Existing Ex duties and Ex a the employer bill bill by bill and bill employer aEx asEx and bill a act as is of aExisting bill bill\n",
      ",Ex impose bill the Ex bill\n",
      " the the for a that and law require employee the provisions bill bill beEx the bill as in,. is that stateExExisting a lawisting bill the and. would bill law bill state Existing requires that be bill bill bill bill Act\n"
     ]
    }
   ],
   "source": [
    "print(pipe_out[0]['generated_text'][len(input):])"
   ]
  },
  {
   "cell_type": "code",
   "execution_count": null,
   "metadata": {},
   "outputs": [],
   "source": []
  }
 ],
 "metadata": {
  "kernelspec": {
   "display_name": "base",
   "language": "python",
   "name": "python3"
  },
  "language_info": {
   "codemirror_mode": {
    "name": "ipython",
    "version": 3
   },
   "file_extension": ".py",
   "mimetype": "text/x-python",
   "name": "python",
   "nbconvert_exporter": "python",
   "pygments_lexer": "ipython3",
   "version": "3.11.0"
  }
 },
 "nbformat": 4,
 "nbformat_minor": 2
}
