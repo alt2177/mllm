{
 "cells": [
  {
   "cell_type": "code",
   "execution_count": 189,
   "metadata": {},
   "outputs": [],
   "source": [
    "import torch \n",
    "import torch.nn as nn\n",
    "import pandas as pd \n",
    "import numpy as np"
   ]
  },
  {
   "cell_type": "code",
   "execution_count": 190,
   "metadata": {},
   "outputs": [],
   "source": [
    "def calculate_accuracy(predictions,labels):\n",
    "    predictions = torch.argmax(predictions,dim=1)\n",
    "    correct = (predictions == labels).sum().item()\n",
    "    accuracy = correct/len(labels)\n",
    "    return accuracy"
   ]
  },
  {
   "cell_type": "code",
   "execution_count": 191,
   "metadata": {},
   "outputs": [],
   "source": [
    "def calculate_loss(predictions,labels):\n",
    "    loss = nn.CrossEntropyLoss()\n",
    "    return loss(predictions,labels)"
   ]
  },
  {
   "cell_type": "code",
   "execution_count": 179,
   "metadata": {},
   "outputs": [],
   "source": [
    "with open(\"accuracy_manual_results_yelp_test_finetune_accuracy.txt\",\"w\") as f:\n",
    "    for i in range(10):\n",
    "        data = pd.read_csv(f\"/accounts/grad/phudish_p/mllm/new_test_loss/test_loss_exp/yelp_experiment_probs/gpt2_f_experiment_{i}_test_probabilities.csv\")\n",
    "        data_true_label = torch.from_numpy(data['true_label'].values)\n",
    "        data_pred = torch.from_numpy(data.drop(columns=['true_label']).values)\n",
    "        accuracy = calculate_accuracy(data_pred,data_true_label)\n",
    "        f.write(f'Finetune test accuracy {i}: {accuracy}\\n')"
   ]
  },
  {
   "cell_type": "code",
   "execution_count": 180,
   "metadata": {},
   "outputs": [],
   "source": [
    "with open(\"accuracy_manual_results_yelp_val_finetune_accuracy.txt\",\"w\") as f:\n",
    "    for i in range(10):\n",
    "        data = pd.read_csv(f\"/accounts/grad/phudish_p/mllm/new_test_loss/test_loss_exp/yelp_experiment_probs/gpt2_f_experiment_{i}_validation_probabilities.csv\")\n",
    "        data_true_label = torch.from_numpy(data['true_label'].values)\n",
    "        data_pred = torch.from_numpy(data.drop(columns=['true_label']).values)\n",
    "        accuracy = calculate_accuracy(data_pred,data_true_label)\n",
    "        f.write(f'Finetune validaiton accuracy {i}: {accuracy}\\n')"
   ]
  },
  {
   "cell_type": "code",
   "execution_count": 181,
   "metadata": {},
   "outputs": [],
   "source": [
    "with open(\"accuracy_manual_results_yelp_test_finetune_loss.txt\",\"w\") as f:\n",
    "    for i in range(10):\n",
    "        data = pd.read_csv(f\"/accounts/grad/phudish_p/mllm/new_test_loss/test_loss_exp/yelp_experiment_probs/gpt2_f_experiment_{i}_test_probabilities.csv\")\n",
    "        data_true_label = torch.from_numpy(data['true_label'].values)\n",
    "        data_pred = torch.from_numpy(data.drop(columns=['true_label']).values)\n",
    "        loss = calculate_loss(data_pred,data_true_label)\n",
    "        f.write(f'Finetune test loss {i}: {loss}\\n')"
   ]
  },
  {
   "cell_type": "code",
   "execution_count": 182,
   "metadata": {},
   "outputs": [],
   "source": [
    "with open(\"accuracy_manual_results_yelp_val_finetune_loss.txt\",\"w\") as f:\n",
    "    for i in range(10):\n",
    "        data = pd.read_csv(f\"/accounts/grad/phudish_p/mllm/new_test_loss/test_loss_exp/yelp_experiment_probs/gpt2_f_experiment_{i}_validation_probabilities.csv\")\n",
    "        data_true_label = torch.from_numpy(data['true_label'].values)\n",
    "        data_pred = torch.from_numpy(data.drop(columns=['true_label']).values)\n",
    "        loss = calculate_loss(data_pred,data_true_label)\n",
    "        f.write(f'Finetune validation loss\" {i}: {loss}\\n')"
   ]
  },
  {
   "cell_type": "code",
   "execution_count": 184,
   "metadata": {},
   "outputs": [],
   "source": [
    "with open(\"accuracy_manual_results_drug_test_finetune_accuracy.txt\",\"w\") as f:\n",
    "    for i in range(5):\n",
    "        data = pd.read_csv(f\"/accounts/grad/phudish_p/mllm/new_test_loss/test_loss_exp/drug_experiment_probs/gpt2_f_experiment_{i}_drug_data_test_probabilities.csv\")\n",
    "        data_true_label = torch.from_numpy(data['true_label'].values)\n",
    "        data_pred = torch.from_numpy(data.drop(columns=['true_label']).values)\n",
    "        accuracy = calculate_accuracy(data_pred,data_true_label)\n",
    "        f.write(f'Finetune test accuracy {i}: {accuracy}\\n')"
   ]
  },
  {
   "cell_type": "code",
   "execution_count": 185,
   "metadata": {},
   "outputs": [],
   "source": [
    "with open(\"accuracy_manual_results_drug_val_finetune_accuracy.txt\",\"w\") as f:\n",
    "    for i in range(5):\n",
    "        data = pd.read_csv(f\"/accounts/grad/phudish_p/mllm/new_test_loss/test_loss_exp/drug_experiment_probs/gpt2_f_experiment_{i}_drug_data_validation_probabilities.csv\")\n",
    "        data_true_label = torch.from_numpy(data['true_label'].values)\n",
    "        data_pred = torch.from_numpy(data.drop(columns=['true_label']).values)\n",
    "        accuracy = calculate_accuracy(data_pred,data_true_label)\n",
    "        f.write(f'Finetune validation accuracy {i}: {accuracy}\\n')"
   ]
  },
  {
   "cell_type": "code",
   "execution_count": 186,
   "metadata": {},
   "outputs": [],
   "source": [
    "with open(\"accuracy_manual_results_drug_test_finetune_loss.txt\",\"w\") as f:\n",
    "    for i in range(5):\n",
    "        data = pd.read_csv(f\"/accounts/grad/phudish_p/mllm/new_test_loss/test_loss_exp/drug_experiment_probs/gpt2_f_experiment_{i}_drug_data_test_probabilities.csv\")\n",
    "        data_true_label = torch.from_numpy(data['true_label'].values)\n",
    "        data_pred = torch.from_numpy(data.drop(columns=['true_label']).values)\n",
    "        loss = calculate_loss(data_pred,data_true_label)\n",
    "        f.write(f'Finetune test loss {i}: {loss}\\n')"
   ]
  },
  {
   "cell_type": "code",
   "execution_count": 187,
   "metadata": {},
   "outputs": [],
   "source": [
    "with open(\"accuracy_manual_results_drug_val_finetune_loss.txt\",\"w\") as f:\n",
    "    for i in range(5):\n",
    "        data = pd.read_csv(f\"/accounts/grad/phudish_p/mllm/new_test_loss/test_loss_exp/drug_experiment_probs/gpt2_f_experiment_{i}_drug_data_validation_probabilities.csv\")\n",
    "        data_true_label = torch.from_numpy(data['true_label'].values)\n",
    "        data_pred = torch.from_numpy(data.drop(columns=['true_label']).values)\n",
    "        loss = calculate_loss(data_pred,data_true_label)\n",
    "        f.write(f'Finetune validation accuracy {i}: {loss}\\n')"
   ]
  },
  {
   "cell_type": "code",
   "execution_count": 196,
   "metadata": {},
   "outputs": [],
   "source": [
    "with open(\"accuracy_manual_results_drug_xl_test_accuracy.txt\",\"w\") as f:\n",
    "    data = pd.read_csv(f\"/accounts/grad/phudish_p/mllm/new_test_loss/test_loss_exp/drug_experiment_probs/gpt2_f_experiment_drug_data_large_test_probabilities.csv\")\n",
    "    data_true_label = torch.from_numpy(data['true_label'].values)\n",
    "    data_pred = torch.from_numpy(data.drop(columns=['true_label']).values)\n",
    "    accuracy = calculate_accuracy(data_pred,data_true_label)\n",
    "    f.write(f'Finetune test accuracy big : {accuracy}\\n')"
   ]
  },
  {
   "cell_type": "code",
   "execution_count": 195,
   "metadata": {},
   "outputs": [],
   "source": [
    "with open(\"accuracy_manual_results_drug_xl_val_accuracy.txt\",\"w\") as f:\n",
    "    data = pd.read_csv(f\"/accounts/grad/phudish_p/mllm/new_test_loss/test_loss_exp/drug_experiment_probs/gpt2_xl_validation_probabilities.csv\")\n",
    "    data_true_label = torch.from_numpy(data['true_label'].values)\n",
    "    data_pred = torch.from_numpy(data.drop(columns=['true_label']).values)\n",
    "    accuracy = calculate_accuracy(data_pred,data_true_label)\n",
    "    f.write(f'Finetune test accuracy big : {accuracy}\\n')"
   ]
  },
  {
   "cell_type": "code",
   "execution_count": 197,
   "metadata": {},
   "outputs": [],
   "source": [
    "merge = [\"dare_linear\",\"dare_ties\",\"linear\",\"ties\"]"
   ]
  },
  {
   "cell_type": "code",
   "execution_count": 199,
   "metadata": {},
   "outputs": [],
   "source": [
    "with open(\"accuracy_manual_results_drug_test_merge_method_accuracy.txt\",\"w\") as f:\n",
    "    for merge_type in merge:\n",
    "        data = pd.read_csv(f\"/accounts/grad/phudish_p/mllm/new_test_loss/test_loss_exp/drug_experiment_probs/gpt2_m_experiment_drug_data_{merge_type}_test_probabilities.csv\")\n",
    "        data_true_label = torch.from_numpy(data['true_label'].values)\n",
    "        data_pred = torch.from_numpy(data.drop(columns=['true_label']).values)\n",
    "        accuracy = calculate_accuracy(data_pred,data_true_label)\n",
    "        f.write(f'Merge method test accuracy {merge_type}: {accuracy}\\n')"
   ]
  },
  {
   "cell_type": "code",
   "execution_count": 200,
   "metadata": {},
   "outputs": [],
   "source": [
    "with open(\"accuracy_manual_results_drug_test_merge_method_loss.txt\",\"w\") as f:\n",
    "    for merge_type in merge:\n",
    "        data = pd.read_csv(f\"/accounts/grad/phudish_p/mllm/new_test_loss/test_loss_exp/drug_experiment_probs/gpt2_m_experiment_drug_data_{merge_type}_test_probabilities.csv\")\n",
    "        data_true_label = torch.from_numpy(data['true_label'].values)\n",
    "        data_pred = torch.from_numpy(data.drop(columns=['true_label']).values)\n",
    "        loss = calculate_loss(data_pred,data_true_label)\n",
    "        f.write(f'Merge method test accuracy {merge_type}: {loss}\\n')"
   ]
  },
  {
   "cell_type": "code",
   "execution_count": 201,
   "metadata": {},
   "outputs": [],
   "source": [
    "with open(\"accuracy_manual_results_drug_val_merge_method_accuracy.txt\",\"w\") as f:\n",
    "    for merge_type in merge:\n",
    "        data = pd.read_csv(f\"/accounts/grad/phudish_p/mllm/new_test_loss/test_loss_exp/drug_experiment_probs/gpt2_m_experiment_drug_data_{merge_type}_validation_probabilities.csv\")\n",
    "        data_true_label = torch.from_numpy(data['true_label'].values)\n",
    "        data_pred = torch.from_numpy(data.drop(columns=['true_label']).values)\n",
    "        accuracy = calculate_accuracy(data_pred,data_true_label)\n",
    "        f.write(f'Merge method test accuracy {merge_type}: {accuracy}\\n')"
   ]
  },
  {
   "cell_type": "code",
   "execution_count": 202,
   "metadata": {},
   "outputs": [],
   "source": [
    "with open(\"accuracy_manual_results_drug_val_merge_method_loss.txt\",\"w\") as f:\n",
    "    for merge_type in merge:\n",
    "        data = pd.read_csv(f\"/accounts/grad/phudish_p/mllm/new_test_loss/test_loss_exp/drug_experiment_probs/gpt2_m_experiment_drug_data_{merge_type}_validation_probabilities.csv\")\n",
    "        data_true_label = torch.from_numpy(data['true_label'].values)\n",
    "        data_pred = torch.from_numpy(data.drop(columns=['true_label']).values)\n",
    "        loss = calculate_loss(data_pred,data_true_label)\n",
    "        f.write(f'Merge method test accuracy {merge_type}: {loss}\\n')"
   ]
  },
  {
   "cell_type": "markdown",
   "metadata": {},
   "source": [
    "## Get output tensor"
   ]
  },
  {
   "cell_type": "code",
   "execution_count": 203,
   "metadata": {},
   "outputs": [],
   "source": [
    "for i in range(5):\n",
    "    data = pd.read_csv(f\"/accounts/grad/phudish_p/mllm/new_test_loss/test_loss_exp/drug_experiment_probs/gpt2_f_experiment_{i}_drug_data_test_probabilities.csv\")\n",
    "    data_true_label = torch.from_numpy(data['true_label'].values)\n",
    "    data_pred = torch.from_numpy(data.drop(columns=['true_label']).values)\n",
    "    torch.save(data_pred,f'/accounts/grad/phudish_p/mllm/new_test_loss/test_loss_exp/drug_experiment_probs/gpt2_f_experiment_{i}_drug_data_test_probabilities.pt')\n",
    "    #accuracy = calculate_accuracy(data_pred,data_true_label)\n",
    "    #f.write(f'Finetune test accuracy {i}: {accuracy}\\n')"
   ]
  },
  {
   "cell_type": "code",
   "execution_count": null,
   "metadata": {},
   "outputs": [],
   "source": []
  }
 ],
 "metadata": {
  "kernelspec": {
   "display_name": "base",
   "language": "python",
   "name": "python3"
  },
  "language_info": {
   "codemirror_mode": {
    "name": "ipython",
    "version": 3
   },
   "file_extension": ".py",
   "mimetype": "text/x-python",
   "name": "python",
   "nbconvert_exporter": "python",
   "pygments_lexer": "ipython3",
   "version": "3.11.0"
  }
 },
 "nbformat": 4,
 "nbformat_minor": 2
}
