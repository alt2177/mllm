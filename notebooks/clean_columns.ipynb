{
 "cells": [
  {
   "cell_type": "markdown",
   "metadata": {},
   "source": [
    "# Cleaning `condition` feature\n",
    "\n",
    "Notebook used for cleaning and visualizing the `condition` column in the Drug Review dataset.\n",
    "\n",
    "First, installation of `pyxet` and other dependencies:"
   ]
  },
  {
   "cell_type": "code",
   "execution_count": 1,
   "metadata": {},
   "outputs": [
    {
     "name": "stdout",
     "output_type": "stream",
     "text": [
      "Requirement already satisfied: pyxet in /opt/homebrew/lib/python3.11/site-packages (0.1.8)\n",
      "Requirement already satisfied: fsspec==2023.9.2 in /opt/homebrew/lib/python3.11/site-packages (from pyxet) (2023.9.2)\n",
      "Requirement already satisfied: typer>=0.9.0 in /opt/homebrew/lib/python3.11/site-packages (from pyxet) (0.9.0)\n",
      "Requirement already satisfied: tabulate>=0.9.0 in /opt/homebrew/lib/python3.11/site-packages (from pyxet) (0.9.0)\n",
      "Requirement already satisfied: s3fs>=2023.6.0 in /opt/homebrew/lib/python3.11/site-packages (from pyxet) (2023.9.2)\n",
      "Requirement already satisfied: aiobotocore~=2.5.4 in /opt/homebrew/lib/python3.11/site-packages (from s3fs>=2023.6.0->pyxet) (2.5.4)\n",
      "Requirement already satisfied: aiohttp!=4.0.0a0,!=4.0.0a1 in /opt/homebrew/lib/python3.11/site-packages (from s3fs>=2023.6.0->pyxet) (3.9.1)\n",
      "Requirement already satisfied: click<9.0.0,>=7.1.1 in /opt/homebrew/lib/python3.11/site-packages (from typer>=0.9.0->pyxet) (8.1.7)\n",
      "Requirement already satisfied: typing-extensions>=3.7.4.3 in /opt/homebrew/lib/python3.11/site-packages (from typer>=0.9.0->pyxet) (4.8.0)\n",
      "Requirement already satisfied: botocore<1.31.18,>=1.31.17 in /opt/homebrew/lib/python3.11/site-packages (from aiobotocore~=2.5.4->s3fs>=2023.6.0->pyxet) (1.31.17)\n",
      "Requirement already satisfied: wrapt<2.0.0,>=1.10.10 in /opt/homebrew/lib/python3.11/site-packages (from aiobotocore~=2.5.4->s3fs>=2023.6.0->pyxet) (1.16.0)\n",
      "Requirement already satisfied: aioitertools<1.0.0,>=0.5.1 in /opt/homebrew/lib/python3.11/site-packages (from aiobotocore~=2.5.4->s3fs>=2023.6.0->pyxet) (0.11.0)\n",
      "Requirement already satisfied: attrs>=17.3.0 in /opt/homebrew/lib/python3.11/site-packages (from aiohttp!=4.0.0a0,!=4.0.0a1->s3fs>=2023.6.0->pyxet) (23.1.0)\n",
      "Requirement already satisfied: multidict<7.0,>=4.5 in /opt/homebrew/lib/python3.11/site-packages (from aiohttp!=4.0.0a0,!=4.0.0a1->s3fs>=2023.6.0->pyxet) (6.0.4)\n",
      "Requirement already satisfied: yarl<2.0,>=1.0 in /opt/homebrew/lib/python3.11/site-packages (from aiohttp!=4.0.0a0,!=4.0.0a1->s3fs>=2023.6.0->pyxet) (1.9.3)\n",
      "Requirement already satisfied: frozenlist>=1.1.1 in /opt/homebrew/lib/python3.11/site-packages (from aiohttp!=4.0.0a0,!=4.0.0a1->s3fs>=2023.6.0->pyxet) (1.4.0)\n",
      "Requirement already satisfied: aiosignal>=1.1.2 in /opt/homebrew/lib/python3.11/site-packages (from aiohttp!=4.0.0a0,!=4.0.0a1->s3fs>=2023.6.0->pyxet) (1.3.1)\n",
      "Requirement already satisfied: jmespath<2.0.0,>=0.7.1 in /opt/homebrew/lib/python3.11/site-packages (from botocore<1.31.18,>=1.31.17->aiobotocore~=2.5.4->s3fs>=2023.6.0->pyxet) (1.0.1)\n",
      "Requirement already satisfied: python-dateutil<3.0.0,>=2.1 in /opt/homebrew/lib/python3.11/site-packages (from botocore<1.31.18,>=1.31.17->aiobotocore~=2.5.4->s3fs>=2023.6.0->pyxet) (2.8.2)\n",
      "Requirement already satisfied: urllib3<1.27,>=1.25.4 in /opt/homebrew/lib/python3.11/site-packages (from botocore<1.31.18,>=1.31.17->aiobotocore~=2.5.4->s3fs>=2023.6.0->pyxet) (1.26.18)\n",
      "Requirement already satisfied: idna>=2.0 in /opt/homebrew/lib/python3.11/site-packages (from yarl<2.0,>=1.0->aiohttp!=4.0.0a0,!=4.0.0a1->s3fs>=2023.6.0->pyxet) (3.4)\n",
      "Requirement already satisfied: six>=1.5 in /opt/homebrew/lib/python3.11/site-packages (from python-dateutil<3.0.0,>=2.1->botocore<1.31.18,>=1.31.17->aiobotocore~=2.5.4->s3fs>=2023.6.0->pyxet) (1.16.0)\n",
      "Note: you may need to restart the kernel to use updated packages.\n",
      "Requirement already satisfied: polars in /opt/homebrew/lib/python3.11/site-packages (0.19.12)\n",
      "Note: you may need to restart the kernel to use updated packages.\n",
      "Requirement already satisfied: pandas in /opt/homebrew/lib/python3.11/site-packages (2.0.3)\n",
      "Requirement already satisfied: python-dateutil>=2.8.2 in /opt/homebrew/lib/python3.11/site-packages (from pandas) (2.8.2)\n",
      "Requirement already satisfied: pytz>=2020.1 in /opt/homebrew/lib/python3.11/site-packages (from pandas) (2023.3)\n",
      "Requirement already satisfied: tzdata>=2022.1 in /opt/homebrew/lib/python3.11/site-packages (from pandas) (2023.3)\n",
      "Requirement already satisfied: numpy>=1.21.0 in /opt/homebrew/lib/python3.11/site-packages (from pandas) (1.25.2)\n",
      "Requirement already satisfied: six>=1.5 in /opt/homebrew/lib/python3.11/site-packages (from python-dateutil>=2.8.2->pandas) (1.16.0)\n",
      "Note: you may need to restart the kernel to use updated packages.\n",
      "Requirement already satisfied: numpy in /opt/homebrew/lib/python3.11/site-packages (1.25.2)\n",
      "Note: you may need to restart the kernel to use updated packages.\n",
      "Requirement already satisfied: pyarrow in /opt/homebrew/lib/python3.11/site-packages (13.0.0)\n",
      "Requirement already satisfied: numpy>=1.16.6 in /opt/homebrew/lib/python3.11/site-packages (from pyarrow) (1.25.2)\n",
      "Note: you may need to restart the kernel to use updated packages.\n"
     ]
    }
   ],
   "source": [
    "%pip install pyxet\n",
    "%pip install polars\n",
    "%pip install pandas\n",
    "%pip install numpy\n",
    "%pip install pyarrow"
   ]
  },
  {
   "cell_type": "code",
   "execution_count": 2,
   "metadata": {},
   "outputs": [],
   "source": [
    "import pyxet         # make xet:// protocol available   \n",
    "import pandas as pd \n",
    "import polars as pl  # faster alternative to pandas\n",
    "import numpy as np\n",
    "import pyarrow\n",
    "import matplotlib.pyplot as plt\n",
    "\n",
    "fs = pyxet.XetFS()"
   ]
  },
  {
   "cell_type": "markdown",
   "metadata": {},
   "source": [
    "# Drug Review Dataset (UCI)"
   ]
  },
  {
   "cell_type": "code",
   "execution_count": 7,
   "metadata": {},
   "outputs": [
    {
     "name": "stdout",
     "output_type": "stream",
     "text": [
      "shape: (5, 7)\n",
      "┌────────┬────────────────┬────────────────┬────────────────┬────────┬───────────────┬─────────────┐\n",
      "│        ┆ drugName       ┆ condition      ┆ review         ┆ rating ┆ date          ┆ usefulCount │\n",
      "│ ---    ┆ ---            ┆ ---            ┆ ---            ┆ ---    ┆ ---           ┆ ---         │\n",
      "│ i64    ┆ str            ┆ str            ┆ str            ┆ f64    ┆ str           ┆ i64         │\n",
      "╞════════╪════════════════╪════════════════╪════════════════╪════════╪═══════════════╪═════════════╡\n",
      "│ 206461 ┆ Valsartan      ┆ Left           ┆ \"It has no     ┆ 9.0    ┆ May 20, 2012  ┆ 27          │\n",
      "│        ┆                ┆ Ventricular    ┆ side effect, I ┆        ┆               ┆             │\n",
      "│        ┆                ┆ Dysfunction    ┆ take i…        ┆        ┆               ┆             │\n",
      "│ 95260  ┆ Guanfacine     ┆ ADHD           ┆ \"My son is     ┆ 8.0    ┆ April 27,     ┆ 192         │\n",
      "│        ┆                ┆                ┆ halfway        ┆        ┆ 2010          ┆             │\n",
      "│        ┆                ┆                ┆ through his f… ┆        ┆               ┆             │\n",
      "│ 92703  ┆ Lybrel         ┆ Birth Control  ┆ \"I used to     ┆ 5.0    ┆ December 14,  ┆ 17          │\n",
      "│        ┆                ┆                ┆ take another   ┆        ┆ 2009          ┆             │\n",
      "│        ┆                ┆                ┆ oral con…      ┆        ┆               ┆             │\n",
      "│ 138000 ┆ Ortho Evra     ┆ Birth Control  ┆ \"This is my    ┆ 8.0    ┆ November 3,   ┆ 10          │\n",
      "│        ┆                ┆                ┆ first time     ┆        ┆ 2015          ┆             │\n",
      "│        ┆                ┆                ┆ using any…     ┆        ┆               ┆             │\n",
      "│ 35696  ┆ Buprenorphine  ┆ Opiate         ┆ \"Suboxone has  ┆ 9.0    ┆ November 27,  ┆ 37          │\n",
      "│        ┆ / naloxone     ┆ Dependence     ┆ completely     ┆        ┆ 2016          ┆             │\n",
      "│        ┆                ┆                ┆ turned …       ┆        ┆               ┆             │\n",
      "└────────┴────────────────┴────────────────┴────────────────┴────────┴───────────────┴─────────────┘\n"
     ]
    }
   ],
   "source": [
    "# get the drug training and testing data\n",
    "df_drugs_train = pl.read_csv('xet://alt2177/mllm-data/main/data/drug_data/drugsComTrain_raw.tsv', separator = '\\t')\n",
    "df_drugs_test = pl.read_csv('xet://alt2177/mllm-data/main/data/drug_data/drugsComTest_raw.tsv', separator = '\\t')\n",
    "print(df_drugs_train.head())"
   ]
  },
  {
   "cell_type": "code",
   "execution_count": 8,
   "metadata": {},
   "outputs": [
    {
     "name": "stdout",
     "output_type": "stream",
     "text": [
      "Training Data shape: (161297, 7)\n",
      "Testing Data shape: (53766, 7)\n"
     ]
    }
   ],
   "source": [
    "# get the shape of our data\n",
    "print(\"Training Data shape: {}\".format(df_drugs_train.shape))\n",
    "print(\"Testing Data shape: {}\".format(df_drugs_test.shape))"
   ]
  },
  {
   "cell_type": "markdown",
   "metadata": {},
   "source": [
    "## `condition` column"
   ]
  },
  {
   "cell_type": "markdown",
   "metadata": {},
   "source": [
    "### Training Data"
   ]
  },
  {
   "cell_type": "code",
   "execution_count": 9,
   "metadata": {},
   "outputs": [
    {
     "data": {
      "text/html": [
       "<div><style>\n",
       ".dataframe > thead > tr > th,\n",
       ".dataframe > tbody > tr > td {\n",
       "  text-align: right;\n",
       "  white-space: pre-wrap;\n",
       "}\n",
       "</style>\n",
       "<small>shape: (3, 2)</small><table border=\"1\" class=\"dataframe\"><thead><tr><th>statistic</th><th>value</th></tr><tr><td>str</td><td>i64</td></tr></thead><tbody><tr><td>&quot;count&quot;</td><td>161297</td></tr><tr><td>&quot;null_count&quot;</td><td>899</td></tr><tr><td>&quot;unique&quot;</td><td>885</td></tr></tbody></table></div>"
      ],
      "text/plain": [
       "shape: (3, 2)\n",
       "┌────────────┬────────┐\n",
       "│ statistic  ┆ value  │\n",
       "│ ---        ┆ ---    │\n",
       "│ str        ┆ i64    │\n",
       "╞════════════╪════════╡\n",
       "│ count      ┆ 161297 │\n",
       "│ null_count ┆ 899    │\n",
       "│ unique     ┆ 885    │\n",
       "└────────────┴────────┘"
      ]
     },
     "execution_count": 9,
     "metadata": {},
     "output_type": "execute_result"
    }
   ],
   "source": [
    "df_drugs_train[\"condition\"].describe()"
   ]
  },
  {
   "cell_type": "code",
   "execution_count": 14,
   "metadata": {},
   "outputs": [
    {
     "name": "stdout",
     "output_type": "stream",
     "text": [
      "shape: (1, 7)\n",
      "┌─────┬──────────┬───────────┬────────┬────────┬──────┬─────────────┐\n",
      "│     ┆ drugName ┆ condition ┆ review ┆ rating ┆ date ┆ usefulCount │\n",
      "│ --- ┆ ---      ┆ ---       ┆ ---    ┆ ---    ┆ ---  ┆ ---         │\n",
      "│ u32 ┆ u32      ┆ u32       ┆ u32    ┆ u32    ┆ u32  ┆ u32         │\n",
      "╞═════╪══════════╪═══════════╪════════╪════════╪══════╪═════════════╡\n",
      "│ 0   ┆ 0        ┆ 0         ┆ 0      ┆ 0      ┆ 0    ┆ 0           │\n",
      "└─────┴──────────┴───────────┴────────┴────────┴──────┴─────────────┘\n"
     ]
    }
   ],
   "source": [
    "# fill missing values with \"not_reported\"\n",
    "df_filled = df_drugs_train.with_columns(\n",
    "    pl.col(\"condition\").fill_null(pl.lit(\"not_reported\")),\n",
    ")\n",
    "\n",
    "# check if we no longer have null values\n",
    "print(df_filled.null_count())"
   ]
  },
  {
   "cell_type": "code",
   "execution_count": 21,
   "metadata": {},
   "outputs": [
    {
     "name": "stdout",
     "output_type": "stream",
     "text": [
      "shape: (885, 1)\n",
      "┌───────────────────────────────────┐\n",
      "│ condition                         │\n",
      "│ ---                               │\n",
      "│ str                               │\n",
      "╞═══════════════════════════════════╡\n",
      "│ High Blood Pressure               │\n",
      "│ Organ Transplant, Rejection Reve… │\n",
      "│ Tuberculosis, Active              │\n",
      "│ Endometrial Hyperplasia           │\n",
      "│ Lyme Disease, Neurologic          │\n",
      "│ 32</span> users found this comme… │\n",
      "│ Infectious Diarrhea               │\n",
      "│ Coccidioidomycosis                │\n",
      "│ Ovarian Cance                     │\n",
      "│ Acetaminophen Overdose            │\n",
      "│ 14</span> users found this comme… │\n",
      "│ Breast Cancer, Prevention         │\n",
      "│ Seizure Prevention                │\n",
      "│ Gout, Acute                       │\n",
      "│ 72</span> users found this comme… │\n",
      "│ Subarachnoid Hemorrhage           │\n",
      "│ Smoking Cessation                 │\n",
      "│ Diabetes Insipidus                │\n",
      "│ Lipodystrophy                     │\n",
      "│ Deep Vein Thrombosis Prophylaxis… │\n",
      "│ acial Lipoatrophy                 │\n",
      "│ Cataplexy                         │\n",
      "│ 45</span> users found this comme… │\n",
      "│ von Willebrand's Disease          │\n",
      "│ Asperger Syndrome                 │\n",
      "│ Ulcerative Proctitis              │\n",
      "│ ibromyalgia                       │\n",
      "│ Cough                             │\n",
      "│ 8</span> users found this commen… │\n",
      "│ Diagnosis and Investigation       │\n",
      "│ Bacterial Infection               │\n",
      "│ Postherpetic Neuralgia            │\n",
      "│ Opioid-Induced Constipation       │\n",
      "│ Postural Orthostatic Tachycardia… │\n",
      "│ Xerostomia                        │\n",
      "│ Rheumatoid Arthritis              │\n",
      "│ Toothache                         │\n",
      "│ Transverse Myelitis               │\n",
      "│ Chronic Myofascial Pain           │\n",
      "│ Dietary Supplementation           │\n",
      "│ Prevention of Hypokalemia         │\n",
      "│ Hypertriglyceridemia              │\n",
      "│ Bulimia                           │\n",
      "│ Nonalcoholic Fatty Liver Disease  │\n",
      "│ Light Sedation                    │\n",
      "│ Tinea Pedis                       │\n",
      "│ mist (                            │\n",
      "│ Women (oxybutynin)                │\n",
      "│ Pulmonary Hypertension            │\n",
      "│ Noninfectious Colitis             │\n",
      "│ …                                 │\n",
      "│ Vitamin/Mineral Supplementation … │\n",
      "│ Reflex Sympathetic Dystrophy Syn… │\n",
      "│ lic Acid Deficiency               │\n",
      "│ Primary Ovarian Failure           │\n",
      "│ Urinary Incontinence              │\n",
      "│ Prevention of Thromboembolism in… │\n",
      "│ Angioedema                        │\n",
      "│ Head Lice                         │\n",
      "│ Atrial Flutte                     │\n",
      "│ 99</span> users found this comme… │\n",
      "│ Tinea Versicol                    │\n",
      "│ Restless Legs Syndrome            │\n",
      "│ Hypopituitarism                   │\n",
      "│ t Pac with Cyclobenzaprine (cycl… │\n",
      "│ Hepatitis B Prevention            │\n",
      "│ Deep Vein Thrombosis, First Even… │\n",
      "│ Ocular Rosacea                    │\n",
      "│ Sleep Paralysis                   │\n",
      "│ Spondyloarthritis                 │\n",
      "│ Back Pain                         │\n",
      "│ Labor Pain                        │\n",
      "│ Intermittent Claudication         │\n",
      "│ Influenza Prophylaxis             │\n",
      "│ Herpes Simplex Dendritic Keratit… │\n",
      "│ Prosthetic Heart Valves, Tissue … │\n",
      "│ acial Wrinkles                    │\n",
      "│ Gingivitis                        │\n",
      "│ Primary Hyperaldosteronism Diagn… │\n",
      "│ Hypomagnesemia                    │\n",
      "│ Progesterone Insufficiency        │\n",
      "│ Nasal Polyps                      │\n",
      "│ Multiple Myeloma                  │\n",
      "│ Uterine Fibroids                  │\n",
      "│ Hyperthyroidism                   │\n",
      "│ Sinus Symptoms                    │\n",
      "│ Post Traumatic Stress Disorde     │\n",
      "│ Migraine                          │\n",
      "│ tic (mycophenolic acid)           │\n",
      "│ Rhinitis                          │\n",
      "│ Pulmonary Embolism, Recurrent Ev… │\n",
      "│ Still's Disease                   │\n",
      "│ Lymphoma                          │\n",
      "│ Hypoestrogenism                   │\n",
      "│ Nausea/Vomiting, Postoperative    │\n",
      "│ Alpha-1 Proteinase Inhibitor Def… │\n",
      "│ me                                │\n",
      "│ Myelodysplastic Syndrome          │\n",
      "│ ungal Pneumonia                   │\n",
      "│ Dermatitis Herpetiformis          │\n",
      "│ Strongyloidiasis                  │\n",
      "└───────────────────────────────────┘\n"
     ]
    }
   ],
   "source": [
    "# set the number of rows we want to see\n",
    "pl.Config.set_tbl_rows(100)\n",
    "\n",
    "# get only the condition column\n",
    "print(df_filled.select(\"condition\").unique())"
   ]
  },
  {
   "cell_type": "markdown",
   "metadata": {},
   "source": [
    "There are many entries with html tags like `</span>` inside, which should not be showing up in our data."
   ]
  },
  {
   "cell_type": "code",
   "execution_count": 22,
   "metadata": {},
   "outputs": [],
   "source": [
    "# removing html tags\n",
    "df_condition = df_filled.filter(~pl.col(\"condition\").str.contains(\"</span>\"))\n"
   ]
  },
  {
   "cell_type": "code",
   "execution_count": null,
   "metadata": {},
   "outputs": [],
   "source": []
  },
  {
   "cell_type": "code",
   "execution_count": null,
   "metadata": {},
   "outputs": [],
   "source": [
    "# df_drugs_train.dtypes  #= [Int64, String, String, String, Float64, String, Int64]\n",
    "df_drugs_train.describe()\n",
    "df_drugs_train.select(pl.all().is_null().sum())\n",
    "\n",
    "#df_drugs_train.select(['rating']).unique()\n",
    "# for cond in df_drugs_train.select(['condition']).unique()['condition']:\n",
    "#     print(cond)\n",
    "# for drug in df_drugs_train.select(['drugName']).unique()['drugName']:\n",
    "#     print(drug)\n",
    "# for rev in df_drugs_train.select(['review']).unique()['review'][0:20]:\n",
    "#     print(rev)\n",
    "\n",
    "review_word_count = df_drugs_train.select(['review']).map_rows(lambda t: len(t[0].split(\" \")))\n",
    "#plt.hist(review_word_count)\n",
    "review_word_count.describe()\n",
    "plt.hist(df_drugs_train['rating'], bins = 10)\n",
    "plt.hist(df_drugs_train['usefulCount'], bins = 100)\n",
    "#df_drugs_train.select(['usefulCount']).unique()\n"
   ]
  },
  {
   "cell_type": "code",
   "execution_count": 1,
   "metadata": {},
   "outputs": [
    {
     "name": "stdout",
     "output_type": "stream",
     "text": [
      "garbage\n"
     ]
    }
   ],
   "source": [
    "print(\"garbage\")"
   ]
  },
  {
   "cell_type": "markdown",
   "metadata": {},
   "source": [
    "Getting the basic descriptive stats, data types, etc."
   ]
  },
  {
   "cell_type": "code",
   "execution_count": 33,
   "metadata": {},
   "outputs": [
    {
     "data": {
      "text/html": [
       "<div><style>\n",
       ".dataframe > thead > tr > th,\n",
       ".dataframe > tbody > tr > td {\n",
       "  text-align: right;\n",
       "  white-space: pre-wrap;\n",
       "}\n",
       "</style>\n",
       "<small>shape: (9, 8)</small><table border=\"1\" class=\"dataframe\"><thead><tr><th>describe</th><th></th><th>drugName</th><th>condition</th><th>review</th><th>rating</th><th>date</th><th>usefulCount</th></tr><tr><td>str</td><td>f64</td><td>str</td><td>str</td><td>str</td><td>f64</td><td>str</td><td>f64</td></tr></thead><tbody><tr><td>&quot;count&quot;</td><td>161297.0</td><td>&quot;161297&quot;</td><td>&quot;161297&quot;</td><td>&quot;161297&quot;</td><td>161297.0</td><td>&quot;161297&quot;</td><td>161297.0</td></tr><tr><td>&quot;null_count&quot;</td><td>0.0</td><td>&quot;0&quot;</td><td>&quot;899&quot;</td><td>&quot;0&quot;</td><td>0.0</td><td>&quot;0&quot;</td><td>0.0</td></tr><tr><td>&quot;mean&quot;</td><td>115923.585305</td><td>null</td><td>null</td><td>null</td><td>6.994377</td><td>null</td><td>28.004755</td></tr><tr><td>&quot;std&quot;</td><td>67004.44517</td><td>null</td><td>null</td><td>null</td><td>3.272329</td><td>null</td><td>36.403742</td></tr><tr><td>&quot;min&quot;</td><td>2.0</td><td>&quot;A + D Cracked …</td><td>&quot;0&lt;/span&gt; users…</td><td>&quot;&quot;\r\n",
       "\r\n",
       " please t…</td><td>1.0</td><td>&quot;April 1, 2008&quot;</td><td>0.0</td></tr><tr><td>&quot;25%&quot;</td><td>58063.0</td><td>null</td><td>null</td><td>null</td><td>5.0</td><td>null</td><td>6.0</td></tr><tr><td>&quot;50%&quot;</td><td>115744.0</td><td>null</td><td>null</td><td>null</td><td>8.0</td><td>null</td><td>16.0</td></tr><tr><td>&quot;75%&quot;</td><td>173776.0</td><td>null</td><td>null</td><td>null</td><td>10.0</td><td>null</td><td>36.0</td></tr><tr><td>&quot;max&quot;</td><td>232291.0</td><td>&quot;femhrt&quot;</td><td>&quot;zen Shoulde&quot;</td><td>&quot;&quot;❤️❤️❤️ Cialis…</td><td>10.0</td><td>&quot;September 9, 2…</td><td>1291.0</td></tr></tbody></table></div>"
      ],
      "text/plain": [
       "shape: (9, 8)\n",
       "┌────────────┬────────────┬────────────┬────────────┬───────────┬──────────┬───────────┬───────────┐\n",
       "│ describe   ┆            ┆ drugName   ┆ condition  ┆ review    ┆ rating   ┆ date      ┆ usefulCou │\n",
       "│ ---        ┆ ---        ┆ ---        ┆ ---        ┆ ---       ┆ ---      ┆ ---       ┆ nt        │\n",
       "│ str        ┆ f64        ┆ str        ┆ str        ┆ str       ┆ f64      ┆ str       ┆ ---       │\n",
       "│            ┆            ┆            ┆            ┆           ┆          ┆           ┆ f64       │\n",
       "╞════════════╪════════════╪════════════╪════════════╪═══════════╪══════════╪═══════════╪═══════════╡\n",
       "│ count      ┆ 161297.0   ┆ 161297     ┆ 161297     ┆ 161297    ┆ 161297.0 ┆ 161297    ┆ 161297.0  │\n",
       "│ null_count ┆ 0.0        ┆ 0          ┆ 899        ┆ 0         ┆ 0.0      ┆ 0         ┆ 0.0       │\n",
       "│ mean       ┆ 115923.585 ┆ null       ┆ null       ┆ null      ┆ 6.994377 ┆ null      ┆ 28.004755 │\n",
       "│            ┆ 305        ┆            ┆            ┆           ┆          ┆           ┆           │\n",
       "│ std        ┆ 67004.4451 ┆ null       ┆ null       ┆ null      ┆ 3.272329 ┆ null      ┆ 36.403742 │\n",
       "│            ┆ 7          ┆            ┆            ┆           ┆          ┆           ┆           │\n",
       "│ min        ┆ 2.0        ┆ A + D      ┆ 0</span>   ┆ \"\n",
       "         ┆ 1.0      ┆ April 1,  ┆ 0.0       │\n",
       "│            ┆            ┆ Cracked    ┆ users      ┆ \n",
       "          ┆          ┆ 2008      ┆           │\n",
       "│            ┆            ┆ Skin       ┆ found this ┆ please    ┆          ┆           ┆           │\n",
       "│            ┆            ┆ Relief     ┆ commen…    ┆ tell the  ┆          ┆           ┆           │\n",
       "│            ┆            ┆            ┆            ┆ ones who  ┆          ┆           ┆           │\n",
       "│            ┆            ┆            ┆            ┆ i…        ┆          ┆           ┆           │\n",
       "│ 25%        ┆ 58063.0    ┆ null       ┆ null       ┆ null      ┆ 5.0      ┆ null      ┆ 6.0       │\n",
       "│ 50%        ┆ 115744.0   ┆ null       ┆ null       ┆ null      ┆ 8.0      ┆ null      ┆ 16.0      │\n",
       "│ 75%        ┆ 173776.0   ┆ null       ┆ null       ┆ null      ┆ 10.0     ┆ null      ┆ 36.0      │\n",
       "│ max        ┆ 232291.0   ┆ femhrt     ┆ zen        ┆ \"❤️❤️❤️      ┆ 10.0     ┆ September ┆ 1291.0    │\n",
       "│            ┆            ┆            ┆ Shoulde    ┆ Cialis    ┆          ┆ 9, 2017   ┆           │\n",
       "│            ┆            ┆            ┆            ┆ for US!!  ┆          ┆           ┆           │\n",
       "│            ┆            ┆            ┆            ┆ I wis…    ┆          ┆           ┆           │\n",
       "└────────────┴────────────┴────────────┴────────────┴───────────┴──────────┴───────────┴───────────┘"
      ]
     },
     "execution_count": 33,
     "metadata": {},
     "output_type": "execute_result"
    }
   ],
   "source": [
    "# Get descripive stats\n",
    "df_drugs_train.describe()"
   ]
  },
  {
   "cell_type": "code",
   "execution_count": 34,
   "metadata": {},
   "outputs": [
    {
     "data": {
      "text/plain": [
       "OrderedDict([('', Int64),\n",
       "             ('drugName', Utf8),\n",
       "             ('condition', Utf8),\n",
       "             ('review', Utf8),\n",
       "             ('rating', Float64),\n",
       "             ('date', Utf8),\n",
       "             ('usefulCount', Int64)])"
      ]
     },
     "execution_count": 34,
     "metadata": {},
     "output_type": "execute_result"
    }
   ],
   "source": [
    "# get column names and their dtypes\n",
    "df_drugs_train.schema"
   ]
  },
  {
   "cell_type": "code",
   "execution_count": 25,
   "metadata": {},
   "outputs": [
    {
     "name": "stdout",
     "output_type": "stream",
     "text": [
      "True\n"
     ]
    }
   ],
   "source": [
    "# check if all the rows are unique \n",
    "print(df_drugs_train.is_unique().all())"
   ]
  },
  {
   "cell_type": "code",
   "execution_count": 35,
   "metadata": {},
   "outputs": [
    {
     "data": {
      "text/html": [
       "<div><style>\n",
       ".dataframe > thead > tr > th,\n",
       ".dataframe > tbody > tr > td {\n",
       "  text-align: right;\n",
       "  white-space: pre-wrap;\n",
       "}\n",
       "</style>\n",
       "<small>shape: (1, 7)</small><table border=\"1\" class=\"dataframe\"><thead><tr><th></th><th>drugName</th><th>condition</th><th>review</th><th>rating</th><th>date</th><th>usefulCount</th></tr><tr><td>u32</td><td>u32</td><td>u32</td><td>u32</td><td>u32</td><td>u32</td><td>u32</td></tr></thead><tbody><tr><td>0</td><td>0</td><td>899</td><td>0</td><td>0</td><td>0</td><td>0</td></tr></tbody></table></div>"
      ],
      "text/plain": [
       "shape: (1, 7)\n",
       "┌─────┬──────────┬───────────┬────────┬────────┬──────┬─────────────┐\n",
       "│     ┆ drugName ┆ condition ┆ review ┆ rating ┆ date ┆ usefulCount │\n",
       "│ --- ┆ ---      ┆ ---       ┆ ---    ┆ ---    ┆ ---  ┆ ---         │\n",
       "│ u32 ┆ u32      ┆ u32       ┆ u32    ┆ u32    ┆ u32  ┆ u32         │\n",
       "╞═════╪══════════╪═══════════╪════════╪════════╪══════╪═════════════╡\n",
       "│ 0   ┆ 0        ┆ 899       ┆ 0      ┆ 0      ┆ 0    ┆ 0           │\n",
       "└─────┴──────────┴───────────┴────────┴────────┴──────┴─────────────┘"
      ]
     },
     "execution_count": 35,
     "metadata": {},
     "output_type": "execute_result"
    }
   ],
   "source": [
    "# check for nulls\n",
    "df_drugs_train.null_count()"
   ]
  },
  {
   "cell_type": "markdown",
   "metadata": {},
   "source": [
    "Since there are over 800 `null` values in `condition`, let's take a closer look. This column represents the medical conditions of respondents, so we cannot just drop those. Instead, we fill with `not_reported`. This ensures no null values."
   ]
  },
  {
   "cell_type": "code",
   "execution_count": 51,
   "metadata": {},
   "outputs": [
    {
     "name": "stdout",
     "output_type": "stream",
     "text": [
      "shape: (1, 7)\n",
      "┌─────┬──────────┬───────────┬────────┬────────┬──────┬─────────────┐\n",
      "│     ┆ drugName ┆ condition ┆ review ┆ rating ┆ date ┆ usefulCount │\n",
      "│ --- ┆ ---      ┆ ---       ┆ ---    ┆ ---    ┆ ---  ┆ ---         │\n",
      "│ u32 ┆ u32      ┆ u32       ┆ u32    ┆ u32    ┆ u32  ┆ u32         │\n",
      "╞═════╪══════════╪═══════════╪════════╪════════╪══════╪═════════════╡\n",
      "│ 0   ┆ 0        ┆ 0         ┆ 0      ┆ 0      ┆ 0    ┆ 0           │\n",
      "└─────┴──────────┴───────────┴────────┴────────┴──────┴─────────────┘\n"
     ]
    }
   ],
   "source": [
    "# fill missing values with \"not_reported\"\n",
    "df_filled = df_drugs_train.with_columns(\n",
    "    pl.col(\"condition\").fill_null(pl.lit(\"not_reported\")),\n",
    ")\n",
    "\n",
    "# check if we no longer have null values\n",
    "print(df_filled.null_count())"
   ]
  },
  {
   "cell_type": "markdown",
   "metadata": {},
   "source": [
    "### Testing Data"
   ]
  },
  {
   "cell_type": "code",
   "execution_count": null,
   "metadata": {},
   "outputs": [],
   "source": []
  },
  {
   "cell_type": "code",
   "execution_count": null,
   "metadata": {},
   "outputs": [],
   "source": []
  }
 ],
 "metadata": {
  "kernelspec": {
   "display_name": ".venv",
   "language": "python",
   "name": "python3"
  },
  "language_info": {
   "codemirror_mode": {
    "name": "ipython",
    "version": 3
   },
   "file_extension": ".py",
   "mimetype": "text/x-python",
   "name": "python",
   "nbconvert_exporter": "python",
   "pygments_lexer": "ipython3",
   "version": "3.11.5"
  }
 },
 "nbformat": 4,
 "nbformat_minor": 2
}
